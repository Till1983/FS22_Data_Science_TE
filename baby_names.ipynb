{
 "cells": [
  {
   "cell_type": "markdown",
   "metadata": {},
   "source": [
    "# Project 1.1: Analyzing Baby Names\n",
    "## Task 1\n",
    "#### The document consists of 3 columns which are separated by commas and do not have a header."
   ]
  },
  {
   "cell_type": "code",
   "execution_count": 1,
   "metadata": {},
   "outputs": [],
   "source": [
    "import pandas as pd\n",
    "from matplotlib import pyplot as plt\n",
    "import seaborn as sns"
   ]
  },
  {
   "cell_type": "markdown",
   "metadata": {},
   "source": [
    "## Task 2\n",
    "#### Reading the file into pandas with a new header."
   ]
  },
  {
   "cell_type": "code",
   "execution_count": 83,
   "metadata": {},
   "outputs": [],
   "source": [
    "df = pd.read_csv(\"./names/yob2021.txt\", header=0, names = [\"name\", \"gender\", \"count\"])"
   ]
  },
  {
   "cell_type": "markdown",
   "metadata": {},
   "source": [
    "## Task 3\n",
    "#### Printing the first 10 rows."
   ]
  },
  {
   "cell_type": "code",
   "execution_count": 84,
   "metadata": {},
   "outputs": [
    {
     "name": "stdout",
     "output_type": "stream",
     "text": [
      "        name gender  count\n",
      "0       Emma      F  15433\n",
      "1  Charlotte      F  13285\n",
      "2     Amelia      F  12952\n",
      "3        Ava      F  12759\n",
      "4     Sophia      F  12496\n",
      "5   Isabella      F  11201\n",
      "6        Mia      F  11096\n",
      "7     Evelyn      F   9434\n",
      "8     Harper      F   8388\n",
      "9       Luna      F   8173\n"
     ]
    }
   ],
   "source": [
    "print(df.head(10))"
   ]
  },
  {
   "cell_type": "markdown",
   "metadata": {},
   "source": [
    "## Task 4\n",
    "#### There are 315536 rows and 3 columns."
   ]
  },
  {
   "cell_type": "code",
   "execution_count": 96,
   "metadata": {},
   "outputs": [
    {
     "data": {
      "text/plain": [
       "(31536, 3)"
      ]
     },
     "execution_count": 96,
     "metadata": {},
     "output_type": "execute_result"
    }
   ],
   "source": [
    "df.shape"
   ]
  },
  {
   "cell_type": "markdown",
   "metadata": {},
   "source": [
    "## Task 5\n",
    "#### The total number of babies born in 2021 is 3343647."
   ]
  },
  {
   "cell_type": "code",
   "execution_count": 98,
   "metadata": {},
   "outputs": [
    {
     "data": {
      "text/plain": [
       "3343647"
      ]
     },
     "execution_count": 98,
     "metadata": {},
     "output_type": "execute_result"
    }
   ],
   "source": [
    "total_names = df[\"count\"].sum()\n",
    "\n",
    "total_names"
   ]
  },
  {
   "cell_type": "markdown",
   "metadata": {},
   "source": [
    "## Task 6\n",
    "#### 1609370 females and 1734277 males were born in 2021."
   ]
  },
  {
   "cell_type": "code",
   "execution_count": 91,
   "metadata": {},
   "outputs": [
    {
     "data": {
      "text/plain": [
       "1609370"
      ]
     },
     "execution_count": 91,
     "metadata": {},
     "output_type": "execute_result"
    }
   ],
   "source": [
    "df_f = df[df[\"gender\"] == \"F\"]\n",
    "\n",
    "df_f = df_f[\"count\"].sum()\n",
    "df_f"
   ]
  },
  {
   "cell_type": "code",
   "execution_count": 92,
   "metadata": {},
   "outputs": [
    {
     "data": {
      "text/plain": [
       "1734277"
      ]
     },
     "execution_count": 92,
     "metadata": {},
     "output_type": "execute_result"
    }
   ],
   "source": [
    "df_m = df[df[\"gender\"] == \"M\"]\n",
    "\n",
    "df_m = df_m[\"count\"].sum()\n",
    "df_m"
   ]
  },
  {
   "cell_type": "markdown",
   "metadata": {},
   "source": [
    "## Task 7\n",
    "#### My name does not occur in the date. No surprise there."
   ]
  },
  {
   "cell_type": "code",
   "execution_count": 110,
   "metadata": {
    "scrolled": true
   },
   "outputs": [
    {
     "name": "stdout",
     "output_type": "stream",
     "text": [
      "Empty DataFrame\n",
      "Columns: [name, gender, count]\n",
      "Index: []\n"
     ]
    }
   ],
   "source": [
    "print(df[df[\"name\"] == \"Till\"])"
   ]
  },
  {
   "cell_type": "markdown",
   "metadata": {},
   "source": [
    "## Task 8\n",
    "#### Calculating the percentages of girls (48%) and boys (52%) among total births in 2021."
   ]
  },
  {
   "cell_type": "code",
   "execution_count": 99,
   "metadata": {},
   "outputs": [
    {
     "data": {
      "text/plain": [
       "48.132174239684986"
      ]
     },
     "execution_count": 99,
     "metadata": {},
     "output_type": "execute_result"
    }
   ],
   "source": [
    "df_percent_f = df_f / total_names * 100\n",
    "df_percent_f"
   ]
  },
  {
   "cell_type": "code",
   "execution_count": 100,
   "metadata": {},
   "outputs": [
    {
     "data": {
      "text/plain": [
       "51.867825760315014"
      ]
     },
     "execution_count": 100,
     "metadata": {},
     "output_type": "execute_result"
    }
   ],
   "source": [
    "df_percent_m = df_m / total_names * 100\n",
    "df_percent_m"
   ]
  },
  {
   "cell_type": "markdown",
   "metadata": {},
   "source": [
    "## Task 9\n",
    "#### Creating a data frame out of the top 5 female and male names of 2021 respectively."
   ]
  },
  {
   "cell_type": "code",
   "execution_count": 131,
   "metadata": {},
   "outputs": [
    {
     "data": {
      "text/html": [
       "<div>\n",
       "<style scoped>\n",
       "    .dataframe tbody tr th:only-of-type {\n",
       "        vertical-align: middle;\n",
       "    }\n",
       "\n",
       "    .dataframe tbody tr th {\n",
       "        vertical-align: top;\n",
       "    }\n",
       "\n",
       "    .dataframe thead th {\n",
       "        text-align: right;\n",
       "    }\n",
       "</style>\n",
       "<table border=\"1\" class=\"dataframe\">\n",
       "  <thead>\n",
       "    <tr style=\"text-align: right;\">\n",
       "      <th></th>\n",
       "      <th>name</th>\n",
       "      <th>gender</th>\n",
       "      <th>count</th>\n",
       "    </tr>\n",
       "  </thead>\n",
       "  <tbody>\n",
       "    <tr>\n",
       "      <td>0</td>\n",
       "      <td>Emma</td>\n",
       "      <td>F</td>\n",
       "      <td>15433</td>\n",
       "    </tr>\n",
       "    <tr>\n",
       "      <td>1</td>\n",
       "      <td>Charlotte</td>\n",
       "      <td>F</td>\n",
       "      <td>13285</td>\n",
       "    </tr>\n",
       "    <tr>\n",
       "      <td>2</td>\n",
       "      <td>Amelia</td>\n",
       "      <td>F</td>\n",
       "      <td>12952</td>\n",
       "    </tr>\n",
       "    <tr>\n",
       "      <td>3</td>\n",
       "      <td>Ava</td>\n",
       "      <td>F</td>\n",
       "      <td>12759</td>\n",
       "    </tr>\n",
       "    <tr>\n",
       "      <td>4</td>\n",
       "      <td>Sophia</td>\n",
       "      <td>F</td>\n",
       "      <td>12496</td>\n",
       "    </tr>\n",
       "  </tbody>\n",
       "</table>\n",
       "</div>"
      ],
      "text/plain": [
       "        name gender  count\n",
       "0       Emma      F  15433\n",
       "1  Charlotte      F  13285\n",
       "2     Amelia      F  12952\n",
       "3        Ava      F  12759\n",
       "4     Sophia      F  12496"
      ]
     },
     "execution_count": 131,
     "metadata": {},
     "output_type": "execute_result"
    }
   ],
   "source": [
    "# top 5 female names of 2021\n",
    "\n",
    "df_f_topfive = df_f.head(5)\n",
    "df_f_topfive"
   ]
  },
  {
   "cell_type": "code",
   "execution_count": 132,
   "metadata": {},
   "outputs": [
    {
     "data": {
      "text/html": [
       "<div>\n",
       "<style scoped>\n",
       "    .dataframe tbody tr th:only-of-type {\n",
       "        vertical-align: middle;\n",
       "    }\n",
       "\n",
       "    .dataframe tbody tr th {\n",
       "        vertical-align: top;\n",
       "    }\n",
       "\n",
       "    .dataframe thead th {\n",
       "        text-align: right;\n",
       "    }\n",
       "</style>\n",
       "<table border=\"1\" class=\"dataframe\">\n",
       "  <thead>\n",
       "    <tr style=\"text-align: right;\">\n",
       "      <th></th>\n",
       "      <th>name</th>\n",
       "      <th>gender</th>\n",
       "      <th>count</th>\n",
       "    </tr>\n",
       "  </thead>\n",
       "  <tbody>\n",
       "    <tr>\n",
       "      <td>17543</td>\n",
       "      <td>Liam</td>\n",
       "      <td>M</td>\n",
       "      <td>20272</td>\n",
       "    </tr>\n",
       "    <tr>\n",
       "      <td>17544</td>\n",
       "      <td>Noah</td>\n",
       "      <td>M</td>\n",
       "      <td>18739</td>\n",
       "    </tr>\n",
       "    <tr>\n",
       "      <td>17545</td>\n",
       "      <td>Oliver</td>\n",
       "      <td>M</td>\n",
       "      <td>14616</td>\n",
       "    </tr>\n",
       "    <tr>\n",
       "      <td>17546</td>\n",
       "      <td>Elijah</td>\n",
       "      <td>M</td>\n",
       "      <td>12708</td>\n",
       "    </tr>\n",
       "    <tr>\n",
       "      <td>17547</td>\n",
       "      <td>James</td>\n",
       "      <td>M</td>\n",
       "      <td>12367</td>\n",
       "    </tr>\n",
       "  </tbody>\n",
       "</table>\n",
       "</div>"
      ],
      "text/plain": [
       "         name gender  count\n",
       "17543    Liam      M  20272\n",
       "17544    Noah      M  18739\n",
       "17545  Oliver      M  14616\n",
       "17546  Elijah      M  12708\n",
       "17547   James      M  12367"
      ]
     },
     "execution_count": 132,
     "metadata": {},
     "output_type": "execute_result"
    }
   ],
   "source": [
    "# top 5 male names of 2021\n",
    "\n",
    "df_m_topfive = df_m.head(5)\n",
    "df_m_topfive"
   ]
  },
  {
   "cell_type": "code",
   "execution_count": 127,
   "metadata": {
    "scrolled": true
   },
   "outputs": [
    {
     "data": {
      "text/html": [
       "<div>\n",
       "<style scoped>\n",
       "    .dataframe tbody tr th:only-of-type {\n",
       "        vertical-align: middle;\n",
       "    }\n",
       "\n",
       "    .dataframe tbody tr th {\n",
       "        vertical-align: top;\n",
       "    }\n",
       "\n",
       "    .dataframe thead th {\n",
       "        text-align: right;\n",
       "    }\n",
       "</style>\n",
       "<table border=\"1\" class=\"dataframe\">\n",
       "  <thead>\n",
       "    <tr style=\"text-align: right;\">\n",
       "      <th></th>\n",
       "      <th>name</th>\n",
       "      <th>gender</th>\n",
       "      <th>count</th>\n",
       "    </tr>\n",
       "  </thead>\n",
       "  <tbody>\n",
       "    <tr>\n",
       "      <td>0</td>\n",
       "      <td>Emma</td>\n",
       "      <td>F</td>\n",
       "      <td>15433</td>\n",
       "    </tr>\n",
       "    <tr>\n",
       "      <td>1</td>\n",
       "      <td>Charlotte</td>\n",
       "      <td>F</td>\n",
       "      <td>13285</td>\n",
       "    </tr>\n",
       "    <tr>\n",
       "      <td>2</td>\n",
       "      <td>Amelia</td>\n",
       "      <td>F</td>\n",
       "      <td>12952</td>\n",
       "    </tr>\n",
       "    <tr>\n",
       "      <td>3</td>\n",
       "      <td>Ava</td>\n",
       "      <td>F</td>\n",
       "      <td>12759</td>\n",
       "    </tr>\n",
       "    <tr>\n",
       "      <td>4</td>\n",
       "      <td>Sophia</td>\n",
       "      <td>F</td>\n",
       "      <td>12496</td>\n",
       "    </tr>\n",
       "    <tr>\n",
       "      <td>5</td>\n",
       "      <td>Liam</td>\n",
       "      <td>M</td>\n",
       "      <td>20272</td>\n",
       "    </tr>\n",
       "    <tr>\n",
       "      <td>6</td>\n",
       "      <td>Noah</td>\n",
       "      <td>M</td>\n",
       "      <td>18739</td>\n",
       "    </tr>\n",
       "    <tr>\n",
       "      <td>7</td>\n",
       "      <td>Oliver</td>\n",
       "      <td>M</td>\n",
       "      <td>14616</td>\n",
       "    </tr>\n",
       "    <tr>\n",
       "      <td>8</td>\n",
       "      <td>Elijah</td>\n",
       "      <td>M</td>\n",
       "      <td>12708</td>\n",
       "    </tr>\n",
       "    <tr>\n",
       "      <td>9</td>\n",
       "      <td>James</td>\n",
       "      <td>M</td>\n",
       "      <td>12367</td>\n",
       "    </tr>\n",
       "  </tbody>\n",
       "</table>\n",
       "</div>"
      ],
      "text/plain": [
       "        name gender  count\n",
       "0       Emma      F  15433\n",
       "1  Charlotte      F  13285\n",
       "2     Amelia      F  12952\n",
       "3        Ava      F  12759\n",
       "4     Sophia      F  12496\n",
       "5       Liam      M  20272\n",
       "6       Noah      M  18739\n",
       "7     Oliver      M  14616\n",
       "8     Elijah      M  12708\n",
       "9      James      M  12367"
      ]
     },
     "execution_count": 127,
     "metadata": {},
     "output_type": "execute_result"
    }
   ],
   "source": [
    "df_topfive_2021 = pd.concat([df_f_topfive, df_m_topfive], ignore_index=True)\n",
    "df_topfive_2021"
   ]
  },
  {
   "cell_type": "markdown",
   "metadata": {},
   "source": [
    "## Task 10\n",
    "#### Saving the new data frame to an excel file."
   ]
  },
  {
   "cell_type": "code",
   "execution_count": 130,
   "metadata": {},
   "outputs": [],
   "source": [
    "df_topfive_2021.to_excel(\"df_topfive_2021.xls\")"
   ]
  }
 ],
 "metadata": {
  "kernelspec": {
   "display_name": "Python 3",
   "language": "python",
   "name": "python3"
  },
  "language_info": {
   "codemirror_mode": {
    "name": "ipython",
    "version": 3
   },
   "file_extension": ".py",
   "mimetype": "text/x-python",
   "name": "python",
   "nbconvert_exporter": "python",
   "pygments_lexer": "ipython3",
   "version": "3.7.4"
  }
 },
 "nbformat": 4,
 "nbformat_minor": 2
}
