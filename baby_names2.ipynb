{
 "cells": [
  {
   "cell_type": "markdown",
   "metadata": {},
   "source": [
    "# Project 1.2: Timeline of Baby Names"
   ]
  },
  {
   "cell_type": "code",
   "execution_count": 1,
   "metadata": {},
   "outputs": [],
   "source": [
    "import pandas as pd\n",
    "from matplotlib import pyplot as plt\n",
    "import seaborn as sns"
   ]
  },
  {
   "cell_type": "markdown",
   "metadata": {},
   "source": [
    "## Task 1\n",
    "#### Calculating the percentage of total births in 2000 for each name and storing it in a new column."
   ]
  },
  {
   "cell_type": "code",
   "execution_count": 2,
   "metadata": {},
   "outputs": [
    {
     "data": {
      "text/html": [
       "<div>\n",
       "<style scoped>\n",
       "    .dataframe tbody tr th:only-of-type {\n",
       "        vertical-align: middle;\n",
       "    }\n",
       "\n",
       "    .dataframe tbody tr th {\n",
       "        vertical-align: top;\n",
       "    }\n",
       "\n",
       "    .dataframe thead th {\n",
       "        text-align: right;\n",
       "    }\n",
       "</style>\n",
       "<table border=\"1\" class=\"dataframe\">\n",
       "  <thead>\n",
       "    <tr style=\"text-align: right;\">\n",
       "      <th></th>\n",
       "      <th>name</th>\n",
       "      <th>gender</th>\n",
       "      <th>count</th>\n",
       "    </tr>\n",
       "  </thead>\n",
       "  <tbody>\n",
       "    <tr>\n",
       "      <td>0</td>\n",
       "      <td>Hannah</td>\n",
       "      <td>F</td>\n",
       "      <td>23085</td>\n",
       "    </tr>\n",
       "    <tr>\n",
       "      <td>1</td>\n",
       "      <td>Madison</td>\n",
       "      <td>F</td>\n",
       "      <td>19968</td>\n",
       "    </tr>\n",
       "    <tr>\n",
       "      <td>2</td>\n",
       "      <td>Ashley</td>\n",
       "      <td>F</td>\n",
       "      <td>17997</td>\n",
       "    </tr>\n",
       "    <tr>\n",
       "      <td>3</td>\n",
       "      <td>Sarah</td>\n",
       "      <td>F</td>\n",
       "      <td>17708</td>\n",
       "    </tr>\n",
       "    <tr>\n",
       "      <td>4</td>\n",
       "      <td>Alexis</td>\n",
       "      <td>F</td>\n",
       "      <td>17631</td>\n",
       "    </tr>\n",
       "  </tbody>\n",
       "</table>\n",
       "</div>"
      ],
      "text/plain": [
       "      name gender  count\n",
       "0   Hannah      F  23085\n",
       "1  Madison      F  19968\n",
       "2   Ashley      F  17997\n",
       "3    Sarah      F  17708\n",
       "4   Alexis      F  17631"
      ]
     },
     "execution_count": 2,
     "metadata": {},
     "output_type": "execute_result"
    }
   ],
   "source": [
    "df = pd.read_csv(\"./names/yob2000.txt\", header=0, names = [\"name\", \"gender\", \"count\"])\n",
    "df.head()"
   ]
  },
  {
   "cell_type": "code",
   "execution_count": 3,
   "metadata": {},
   "outputs": [
    {
     "data": {
      "text/plain": [
       "3753423"
      ]
     },
     "execution_count": 3,
     "metadata": {},
     "output_type": "execute_result"
    }
   ],
   "source": [
    "total_names = df[\"count\"].sum()\n",
    "total_names"
   ]
  },
  {
   "cell_type": "code",
   "execution_count": 4,
   "metadata": {},
   "outputs": [
    {
     "data": {
      "text/html": [
       "<div>\n",
       "<style scoped>\n",
       "    .dataframe tbody tr th:only-of-type {\n",
       "        vertical-align: middle;\n",
       "    }\n",
       "\n",
       "    .dataframe tbody tr th {\n",
       "        vertical-align: top;\n",
       "    }\n",
       "\n",
       "    .dataframe thead th {\n",
       "        text-align: right;\n",
       "    }\n",
       "</style>\n",
       "<table border=\"1\" class=\"dataframe\">\n",
       "  <thead>\n",
       "    <tr style=\"text-align: right;\">\n",
       "      <th></th>\n",
       "      <th>name</th>\n",
       "      <th>gender</th>\n",
       "      <th>count</th>\n",
       "      <th>percentage of total</th>\n",
       "    </tr>\n",
       "  </thead>\n",
       "  <tbody>\n",
       "    <tr>\n",
       "      <td>0</td>\n",
       "      <td>Hannah</td>\n",
       "      <td>F</td>\n",
       "      <td>23085</td>\n",
       "      <td>0.615039</td>\n",
       "    </tr>\n",
       "    <tr>\n",
       "      <td>1</td>\n",
       "      <td>Madison</td>\n",
       "      <td>F</td>\n",
       "      <td>19968</td>\n",
       "      <td>0.531994</td>\n",
       "    </tr>\n",
       "    <tr>\n",
       "      <td>2</td>\n",
       "      <td>Ashley</td>\n",
       "      <td>F</td>\n",
       "      <td>17997</td>\n",
       "      <td>0.479482</td>\n",
       "    </tr>\n",
       "    <tr>\n",
       "      <td>3</td>\n",
       "      <td>Sarah</td>\n",
       "      <td>F</td>\n",
       "      <td>17708</td>\n",
       "      <td>0.471783</td>\n",
       "    </tr>\n",
       "    <tr>\n",
       "      <td>4</td>\n",
       "      <td>Alexis</td>\n",
       "      <td>F</td>\n",
       "      <td>17631</td>\n",
       "      <td>0.469731</td>\n",
       "    </tr>\n",
       "  </tbody>\n",
       "</table>\n",
       "</div>"
      ],
      "text/plain": [
       "      name gender  count  percentage of total\n",
       "0   Hannah      F  23085             0.615039\n",
       "1  Madison      F  19968             0.531994\n",
       "2   Ashley      F  17997             0.479482\n",
       "3    Sarah      F  17708             0.471783\n",
       "4   Alexis      F  17631             0.469731"
      ]
     },
     "execution_count": 4,
     "metadata": {},
     "output_type": "execute_result"
    }
   ],
   "source": [
    "df[\"percentage of total\"] = df[\"count\"] / total_names * 100\n",
    "df.head()"
   ]
  },
  {
   "cell_type": "markdown",
   "metadata": {},
   "source": [
    "## Task 2\n",
    "#### Reading all files and concatenating them into a single data structure."
   ]
  },
  {
   "cell_type": "code",
   "execution_count": 5,
   "metadata": {},
   "outputs": [],
   "source": [
    "# Reading the files for each year\n",
    "\n",
    "df1880 = pd.read_csv(\"./names/yob1880.txt\", header=0, names = [\"name\", \"gender\", \"count\"])\n",
    "df1880[\"year\"] = 1880\n",
    "df1881 = pd.read_csv(\"./names/yob1881.txt\", header=0, names = [\"name\", \"gender\", \"count\"])\n",
    "df1881[\"year\"] = 1881\n",
    "df1882 = pd.read_csv(\"./names/yob1882.txt\", header=0, names = [\"name\", \"gender\", \"count\"])\n",
    "df1882[\"year\"] = 1882\n",
    "df1883 = pd.read_csv(\"./names/yob1883.txt\", header=0, names = [\"name\", \"gender\", \"count\"])\n",
    "df1883[\"year\"] = 1883\n",
    "df1884 = pd.read_csv(\"./names/yob1884.txt\", header=0, names = [\"name\", \"gender\", \"count\"])\n",
    "df1884[\"year\"] = 1884\n",
    "df1885 = pd.read_csv(\"./names/yob1885.txt\", header=0, names = [\"name\", \"gender\", \"count\"])\n",
    "df1885[\"year\"] = 1885\n",
    "df1886 = pd.read_csv(\"./names/yob1886.txt\", header=0, names = [\"name\", \"gender\", \"count\"])\n",
    "df1886[\"year\"] = 1886\n",
    "df1887 = pd.read_csv(\"./names/yob1887.txt\", header=0, names = [\"name\", \"gender\", \"count\"])\n",
    "df1887[\"year\"] = 1887\n",
    "df1888 = pd.read_csv(\"./names/yob1888.txt\", header=0, names = [\"name\", \"gender\", \"count\"])\n",
    "df1888[\"year\"] = 1888\n",
    "df1889 = pd.read_csv(\"./names/yob1889.txt\", header=0, names = [\"name\", \"gender\", \"count\"])\n",
    "df1889[\"year\"] = 1889\n",
    "df1890 = pd.read_csv(\"./names/yob1890.txt\", header=0, names = [\"name\", \"gender\", \"count\"])\n",
    "df1890[\"year\"] = 1890\n",
    "df1891 = pd.read_csv(\"./names/yob1891.txt\", header=0, names = [\"name\", \"gender\", \"count\"])\n",
    "df1891[\"year\"] = 1891\n",
    "df1892 = pd.read_csv(\"./names/yob1892.txt\", header=0, names = [\"name\", \"gender\", \"count\"])\n",
    "df1892[\"year\"] = 1892\n",
    "df1893 = pd.read_csv(\"./names/yob1880.txt\", header=0, names = [\"name\", \"gender\", \"count\"])\n",
    "df1893[\"year\"] = 1880\n",
    "df1894 = pd.read_csv(\"./names/yob1893.txt\", header=0, names = [\"name\", \"gender\", \"count\"])\n",
    "df1894[\"year\"] = 1894\n",
    "df1895 = pd.read_csv(\"./names/yob1895.txt\", header=0, names = [\"name\", \"gender\", \"count\"])\n",
    "df1895[\"year\"] = 1895\n",
    "df1896 = pd.read_csv(\"./names/yob1896.txt\", header=0, names = [\"name\", \"gender\", \"count\"])\n",
    "df1896[\"year\"] = 1896\n",
    "df1897 = pd.read_csv(\"./names/yob1897.txt\", header=0, names = [\"name\", \"gender\", \"count\"])\n",
    "df1897[\"year\"] = 1897\n",
    "df1898 = pd.read_csv(\"./names/yob1898.txt\", header=0, names = [\"name\", \"gender\", \"count\"])\n",
    "df1898[\"year\"] = 1898\n",
    "df1899 = pd.read_csv(\"./names/yob1899.txt\", header=0, names = [\"name\", \"gender\", \"count\"])\n",
    "df1899[\"year\"] = 1899\n",
    "df1900 = pd.read_csv(\"./names/yob1900.txt\", header=0, names = [\"name\", \"gender\", \"count\"])\n",
    "df1900[\"year\"] = 1900\n",
    "df1901 = pd.read_csv(\"./names/yob1901.txt\", header=0, names = [\"name\", \"gender\", \"count\"])\n",
    "df1901[\"year\"] = 1901\n",
    "df1902 = pd.read_csv(\"./names/yob1902.txt\", header=0, names = [\"name\", \"gender\", \"count\"])\n",
    "df1902[\"year\"] = 1902\n",
    "df1903 = pd.read_csv(\"./names/yob1903.txt\", header=0, names = [\"name\", \"gender\", \"count\"])\n",
    "df1903[\"year\"] = 1903\n",
    "df1904 = pd.read_csv(\"./names/yob1904.txt\", header=0, names = [\"name\", \"gender\", \"count\"])\n",
    "df1904[\"year\"] = 1904\n",
    "df1905 = pd.read_csv(\"./names/yob1905.txt\", header=0, names = [\"name\", \"gender\", \"count\"])\n",
    "df1905[\"year\"] = 1905\n",
    "df1906 = pd.read_csv(\"./names/yob1906.txt\", header=0, names = [\"name\", \"gender\", \"count\"])\n",
    "df1906[\"year\"] = 1906\n",
    "df1907 = pd.read_csv(\"./names/yob1907.txt\", header=0, names = [\"name\", \"gender\", \"count\"])\n",
    "df1907[\"year\"] = 1907\n",
    "df1908 = pd.read_csv(\"./names/yob1908.txt\", header=0, names = [\"name\", \"gender\", \"count\"])\n",
    "df1908[\"year\"] = 1908\n",
    "df1909 = pd.read_csv(\"./names/yob1909.txt\", header=0, names = [\"name\", \"gender\", \"count\"])\n",
    "df1909[\"year\"] = 1909\n",
    "df1910 = pd.read_csv(\"./names/yob1910.txt\", header=0, names = [\"name\", \"gender\", \"count\"])\n",
    "df1910[\"year\"] = 1910\n",
    "df1911 = pd.read_csv(\"./names/yob1911.txt\", header=0, names = [\"name\", \"gender\", \"count\"])\n",
    "df1911[\"year\"] = 1911\n",
    "df1912 = pd.read_csv(\"./names/yob1912.txt\", header=0, names = [\"name\", \"gender\", \"count\"])\n",
    "df1912[\"year\"] = 1912\n",
    "df1913 = pd.read_csv(\"./names/yob1913.txt\", header=0, names = [\"name\", \"gender\", \"count\"])\n",
    "df1913[\"year\"] = 1913\n",
    "df1914 = pd.read_csv(\"./names/yob1914.txt\", header=0, names = [\"name\", \"gender\", \"count\"])\n",
    "df1914[\"year\"] = 1914\n",
    "df1915 = pd.read_csv(\"./names/yob1915.txt\", header=0, names = [\"name\", \"gender\", \"count\"])\n",
    "df1915[\"year\"] = 1915\n",
    "df1916 = pd.read_csv(\"./names/yob1916.txt\", header=0, names = [\"name\", \"gender\", \"count\"])\n",
    "df1916[\"year\"] = 1916\n",
    "df1917 = pd.read_csv(\"./names/yob1917.txt\", header=0, names = [\"name\", \"gender\", \"count\"])\n",
    "df1917[\"year\"] = 1917\n",
    "df1918 = pd.read_csv(\"./names/yob1918.txt\", header=0, names = [\"name\", \"gender\", \"count\"])\n",
    "df1918[\"year\"] = 1918\n",
    "df1919 = pd.read_csv(\"./names/yob1910.txt\", header=0, names = [\"name\", \"gender\", \"count\"])\n",
    "df1919[\"year\"] = 1919\n",
    "df1920 = pd.read_csv(\"./names/yob1920.txt\", header=0, names = [\"name\", \"gender\", \"count\"])\n",
    "df1920[\"year\"] = 1920\n",
    "df1921 = pd.read_csv(\"./names/yob1921.txt\", header=0, names = [\"name\", \"gender\", \"count\"])\n",
    "df1921[\"year\"] = 1921\n",
    "df1922 = pd.read_csv(\"./names/yob1922.txt\", header=0, names = [\"name\", \"gender\", \"count\"])\n",
    "df1922[\"year\"] = 1922\n",
    "df1923 = pd.read_csv(\"./names/yob1923.txt\", header=0, names = [\"name\", \"gender\", \"count\"])\n",
    "df1923[\"year\"] = 1923\n",
    "df1924 = pd.read_csv(\"./names/yob1924.txt\", header=0, names = [\"name\", \"gender\", \"count\"])\n",
    "df1924[\"year\"] = 1924\n",
    "df1925 = pd.read_csv(\"./names/yob1925.txt\", header=0, names = [\"name\", \"gender\", \"count\"])\n",
    "df1925[\"year\"] = 1925\n",
    "df1926 = pd.read_csv(\"./names/yob1926.txt\", header=0, names = [\"name\", \"gender\", \"count\"])\n",
    "df1926[\"year\"] = 1926\n",
    "df1927 = pd.read_csv(\"./names/yob1927.txt\", header=0, names = [\"name\", \"gender\", \"count\"])\n",
    "df1927[\"year\"] = 1927\n",
    "df1928 = pd.read_csv(\"./names/yob1928.txt\", header=0, names = [\"name\", \"gender\", \"count\"])\n",
    "df1928[\"year\"] = 1928\n",
    "df1929 = pd.read_csv(\"./names/yob1929.txt\", header=0, names = [\"name\", \"gender\", \"count\"])\n",
    "df1929[\"year\"] = 1929\n",
    "df1930 = pd.read_csv(\"./names/yob1930.txt\", header=0, names = [\"name\", \"gender\", \"count\"])\n",
    "df1930[\"year\"] = 1930\n",
    "df1931 = pd.read_csv(\"./names/yob1931.txt\", header=0, names = [\"name\", \"gender\", \"count\"])\n",
    "df1931[\"year\"] = 1931\n",
    "df1932 = pd.read_csv(\"./names/yob1932.txt\", header=0, names = [\"name\", \"gender\", \"count\"])\n",
    "df1932[\"year\"] = 1932\n",
    "df1933 = pd.read_csv(\"./names/yob1933.txt\", header=0, names = [\"name\", \"gender\", \"count\"])\n",
    "df1933[\"year\"] = 1933\n",
    "df1934 = pd.read_csv(\"./names/yob1934.txt\", header=0, names = [\"name\", \"gender\", \"count\"])\n",
    "df1934[\"year\"] = 1934\n",
    "df1935 = pd.read_csv(\"./names/yob1935.txt\", header=0, names = [\"name\", \"gender\", \"count\"])\n",
    "df1935[\"year\"] = 1935\n",
    "df1936 = pd.read_csv(\"./names/yob1936.txt\", header=0, names = [\"name\", \"gender\", \"count\"])\n",
    "df1936[\"year\"] = 1936\n",
    "df1937 = pd.read_csv(\"./names/yob1937.txt\", header=0, names = [\"name\", \"gender\", \"count\"])\n",
    "df1937[\"year\"] = 1937\n",
    "df1938 = pd.read_csv(\"./names/yob1938.txt\", header=0, names = [\"name\", \"gender\", \"count\"])\n",
    "df1938[\"year\"] = 1938\n",
    "df1939 = pd.read_csv(\"./names/yob1939.txt\", header=0, names = [\"name\", \"gender\", \"count\"])\n",
    "df1939[\"year\"] = 1939\n",
    "df1940 = pd.read_csv(\"./names/yob1940.txt\", header=0, names = [\"name\", \"gender\", \"count\"])\n",
    "df1940[\"year\"] = 1940\n",
    "df1941 = pd.read_csv(\"./names/yob1941.txt\", header=0, names = [\"name\", \"gender\", \"count\"])\n",
    "df1941[\"year\"] = 1941\n",
    "df1942 = pd.read_csv(\"./names/yob1942.txt\", header=0, names = [\"name\", \"gender\", \"count\"])\n",
    "df1942[\"year\"] = 1942\n",
    "df1943 = pd.read_csv(\"./names/yob1943.txt\", header=0, names = [\"name\", \"gender\", \"count\"])\n",
    "df1943[\"year\"] = 1943\n",
    "df1944 = pd.read_csv(\"./names/yob1944.txt\", header=0, names = [\"name\", \"gender\", \"count\"])\n",
    "df1944[\"year\"] = 1944\n",
    "df1945 = pd.read_csv(\"./names/yob1945.txt\", header=0, names = [\"name\", \"gender\", \"count\"])\n",
    "df1945[\"year\"] = 1945\n",
    "df1946 = pd.read_csv(\"./names/yob1946.txt\", header=0, names = [\"name\", \"gender\", \"count\"])\n",
    "df1946[\"year\"] = 1946\n",
    "df1947 = pd.read_csv(\"./names/yob1947.txt\", header=0, names = [\"name\", \"gender\", \"count\"])\n",
    "df1947[\"year\"] = 1947\n",
    "df1948 = pd.read_csv(\"./names/yob1948.txt\", header=0, names = [\"name\", \"gender\", \"count\"])\n",
    "df1948[\"year\"] = 1948\n",
    "df1949 = pd.read_csv(\"./names/yob1949.txt\", header=0, names = [\"name\", \"gender\", \"count\"])\n",
    "df1949[\"year\"] = 1949\n",
    "df1950 = pd.read_csv(\"./names/yob1950.txt\", header=0, names = [\"name\", \"gender\", \"count\"])\n",
    "df1950[\"year\"] = 1950\n",
    "df1951 = pd.read_csv(\"./names/yob1951.txt\", header=0, names = [\"name\", \"gender\", \"count\"])\n",
    "df1951[\"year\"] = 1951\n",
    "df1952 = pd.read_csv(\"./names/yob1952.txt\", header=0, names = [\"name\", \"gender\", \"count\"])\n",
    "df1952[\"year\"] = 1952\n",
    "df1953 = pd.read_csv(\"./names/yob1953.txt\", header=0, names = [\"name\", \"gender\", \"count\"])\n",
    "df1953[\"year\"] = 1953\n",
    "df1954 = pd.read_csv(\"./names/yob1954.txt\", header=0, names = [\"name\", \"gender\", \"count\"])\n",
    "df1954[\"year\"] = 1954\n",
    "df1955 = pd.read_csv(\"./names/yob1955.txt\", header=0, names = [\"name\", \"gender\", \"count\"])\n",
    "df1955[\"year\"] = 1955\n",
    "df1956 = pd.read_csv(\"./names/yob1956.txt\", header=0, names = [\"name\", \"gender\", \"count\"])\n",
    "df1956[\"year\"] = 1956\n",
    "df1957 = pd.read_csv(\"./names/yob1957.txt\", header=0, names = [\"name\", \"gender\", \"count\"])\n",
    "df1957[\"year\"] = 1957\n",
    "df1958 = pd.read_csv(\"./names/yob1958.txt\", header=0, names = [\"name\", \"gender\", \"count\"])\n",
    "df1958[\"year\"] = 1958\n",
    "df1959 = pd.read_csv(\"./names/yob1959.txt\", header=0, names = [\"name\", \"gender\", \"count\"])\n",
    "df1959[\"year\"] = 1959\n",
    "df1960 = pd.read_csv(\"./names/yob1960.txt\", header=0, names = [\"name\", \"gender\", \"count\"])\n",
    "df1960[\"year\"] = 1960\n",
    "df1961 = pd.read_csv(\"./names/yob1961.txt\", header=0, names = [\"name\", \"gender\", \"count\"])\n",
    "df1961[\"year\"] = 1961\n",
    "df1962 = pd.read_csv(\"./names/yob1962.txt\", header=0, names = [\"name\", \"gender\", \"count\"])\n",
    "df1962[\"year\"] = 1962\n",
    "df1963 = pd.read_csv(\"./names/yob1963.txt\", header=0, names = [\"name\", \"gender\", \"count\"])\n",
    "df1963[\"year\"] = 1963\n",
    "df1964 = pd.read_csv(\"./names/yob1964.txt\", header=0, names = [\"name\", \"gender\", \"count\"])\n",
    "df1964[\"year\"] = 1964\n",
    "df1965 = pd.read_csv(\"./names/yob1965.txt\", header=0, names = [\"name\", \"gender\", \"count\"])\n",
    "df1965[\"year\"] = 1965\n",
    "df1966 = pd.read_csv(\"./names/yob1966.txt\", header=0, names = [\"name\", \"gender\", \"count\"])\n",
    "df1966[\"year\"] = 1966\n",
    "df1967 = pd.read_csv(\"./names/yob1967.txt\", header=0, names = [\"name\", \"gender\", \"count\"])\n",
    "df1967[\"year\"] = 1967\n",
    "df1968 = pd.read_csv(\"./names/yob1968.txt\", header=0, names = [\"name\", \"gender\", \"count\"])\n",
    "df1968[\"year\"] = 1968\n",
    "df1969 = pd.read_csv(\"./names/yob1969.txt\", header=0, names = [\"name\", \"gender\", \"count\"])\n",
    "df1969[\"year\"] = 1969\n",
    "df1970 = pd.read_csv(\"./names/yob1970.txt\", header=0, names = [\"name\", \"gender\", \"count\"])\n",
    "df1970[\"year\"] = 1970\n",
    "df1971 = pd.read_csv(\"./names/yob1971.txt\", header=0, names = [\"name\", \"gender\", \"count\"])\n",
    "df1971[\"year\"] = 1971\n",
    "df1972 = pd.read_csv(\"./names/yob1972.txt\", header=0, names = [\"name\", \"gender\", \"count\"])\n",
    "df1972[\"year\"] = 1972\n",
    "df1973 = pd.read_csv(\"./names/yob1973.txt\", header=0, names = [\"name\", \"gender\", \"count\"])\n",
    "df1973[\"year\"] = 1973\n",
    "df1974 = pd.read_csv(\"./names/yob1974.txt\", header=0, names = [\"name\", \"gender\", \"count\"])\n",
    "df1974[\"year\"] = 1974\n",
    "df1975 = pd.read_csv(\"./names/yob1975.txt\", header=0, names = [\"name\", \"gender\", \"count\"])\n",
    "df1975[\"year\"] = 1975\n",
    "df1976 = pd.read_csv(\"./names/yob1976.txt\", header=0, names = [\"name\", \"gender\", \"count\"])\n",
    "df1976[\"year\"] = 1976\n",
    "df1977 = pd.read_csv(\"./names/yob1977.txt\", header=0, names = [\"name\", \"gender\", \"count\"])\n",
    "df1977[\"year\"] = 1977\n",
    "df1978 = pd.read_csv(\"./names/yob1978.txt\", header=0, names = [\"name\", \"gender\", \"count\"])\n",
    "df1978[\"year\"] = 1978\n",
    "df1979 = pd.read_csv(\"./names/yob1979.txt\", header=0, names = [\"name\", \"gender\", \"count\"])\n",
    "df1979[\"year\"] = 1979\n",
    "df1980 = pd.read_csv(\"./names/yob1980.txt\", header=0, names = [\"name\", \"gender\", \"count\"])\n",
    "df1980[\"year\"] = 1980\n",
    "df1981 = pd.read_csv(\"./names/yob1981.txt\", header=0, names = [\"name\", \"gender\", \"count\"])\n",
    "df1981[\"year\"] = 1981\n",
    "df1982 = pd.read_csv(\"./names/yob1982.txt\", header=0, names = [\"name\", \"gender\", \"count\"])\n",
    "df1982[\"year\"] = 1982\n",
    "df1983 = pd.read_csv(\"./names/yob1983.txt\", header=0, names = [\"name\", \"gender\", \"count\"])\n",
    "df1983[\"year\"] = 1983\n",
    "df1984 = pd.read_csv(\"./names/yob1984.txt\", header=0, names = [\"name\", \"gender\", \"count\"])\n",
    "df1984[\"year\"] = 1984\n",
    "df1985 = pd.read_csv(\"./names/yob1985.txt\", header=0, names = [\"name\", \"gender\", \"count\"])\n",
    "df1985[\"year\"] = 1985\n",
    "df1986 = pd.read_csv(\"./names/yob1986.txt\", header=0, names = [\"name\", \"gender\", \"count\"])\n",
    "df1986[\"year\"] = 1986\n",
    "df1987 = pd.read_csv(\"./names/yob1987.txt\", header=0, names = [\"name\", \"gender\", \"count\"])\n",
    "df1987[\"year\"] = 1987\n",
    "df1988 = pd.read_csv(\"./names/yob1988.txt\", header=0, names = [\"name\", \"gender\", \"count\"])\n",
    "df1988[\"year\"] = 1988\n",
    "df1989 = pd.read_csv(\"./names/yob1989.txt\", header=0, names = [\"name\", \"gender\", \"count\"])\n",
    "df1989[\"year\"] = 1989\n",
    "df1990 = pd.read_csv(\"./names/yob1990.txt\", header=0, names = [\"name\", \"gender\", \"count\"])\n",
    "df1990[\"year\"] = 1990\n",
    "df1991 = pd.read_csv(\"./names/yob1991.txt\", header=0, names = [\"name\", \"gender\", \"count\"])\n",
    "df1991[\"year\"] = 1991\n",
    "df1992 = pd.read_csv(\"./names/yob1992.txt\", header=0, names = [\"name\", \"gender\", \"count\"])\n",
    "df1992[\"year\"] = 1992\n",
    "df1993 = pd.read_csv(\"./names/yob1993.txt\", header=0, names = [\"name\", \"gender\", \"count\"])\n",
    "df1993[\"year\"] = 1993\n",
    "df1994 = pd.read_csv(\"./names/yob1994.txt\", header=0, names = [\"name\", \"gender\", \"count\"])\n",
    "df1994[\"year\"] = 1994\n",
    "df1995 = pd.read_csv(\"./names/yob1995.txt\", header=0, names = [\"name\", \"gender\", \"count\"])\n",
    "df1995[\"year\"] = 1995\n",
    "df1996 = pd.read_csv(\"./names/yob1996.txt\", header=0, names = [\"name\", \"gender\", \"count\"])\n",
    "df1996[\"year\"] = 1996\n",
    "df1997 = pd.read_csv(\"./names/yob1997.txt\", header=0, names = [\"name\", \"gender\", \"count\"])\n",
    "df1997[\"year\"] = 1997\n",
    "df1998 = pd.read_csv(\"./names/yob1998.txt\", header=0, names = [\"name\", \"gender\", \"count\"])\n",
    "df1998[\"year\"] = 1998\n",
    "df1999 = pd.read_csv(\"./names/yob1999.txt\", header=0, names = [\"name\", \"gender\", \"count\"])\n",
    "df1999[\"year\"] = 1999\n",
    "df2000 = pd.read_csv(\"./names/yob2000.txt\", header=0, names = [\"name\", \"gender\", \"count\"])\n",
    "df2000[\"year\"] = 2000\n",
    "df2001 = pd.read_csv(\"./names/yob2001.txt\", header=0, names = [\"name\", \"gender\", \"count\"])\n",
    "df2001[\"year\"] = 2001\n",
    "df2002 = pd.read_csv(\"./names/yob2002.txt\", header=0, names = [\"name\", \"gender\", \"count\"])\n",
    "df2002[\"year\"] = 2002\n",
    "df2003 = pd.read_csv(\"./names/yob2003.txt\", header=0, names = [\"name\", \"gender\", \"count\"])\n",
    "df2003[\"year\"] = 2003\n",
    "df2004 = pd.read_csv(\"./names/yob2004.txt\", header=0, names = [\"name\", \"gender\", \"count\"])\n",
    "df2004[\"year\"] = 2004\n",
    "df2005 = pd.read_csv(\"./names/yob2005.txt\", header=0, names = [\"name\", \"gender\", \"count\"])\n",
    "df2005[\"year\"] = 2005\n",
    "df2006 = pd.read_csv(\"./names/yob2006.txt\", header=0, names = [\"name\", \"gender\", \"count\"])\n",
    "df2006[\"year\"] = 2006\n",
    "df2007 = pd.read_csv(\"./names/yob2007.txt\", header=0, names = [\"name\", \"gender\", \"count\"])\n",
    "df2007[\"year\"] = 2007\n",
    "df2008 = pd.read_csv(\"./names/yob2008.txt\", header=0, names = [\"name\", \"gender\", \"count\"])\n",
    "df2008[\"year\"] = 2008\n",
    "df2009 = pd.read_csv(\"./names/yob2009.txt\", header=0, names = [\"name\", \"gender\", \"count\"])\n",
    "df2009[\"year\"] = 2009\n",
    "df2010 = pd.read_csv(\"./names/yob2010.txt\", header=0, names = [\"name\", \"gender\", \"count\"])\n",
    "df2010[\"year\"] = 2010\n",
    "df2011 = pd.read_csv(\"./names/yob2011.txt\", header=0, names = [\"name\", \"gender\", \"count\"])\n",
    "df2011[\"year\"] = 2011\n",
    "df2012 = pd.read_csv(\"./names/yob2012.txt\", header=0, names = [\"name\", \"gender\", \"count\"])\n",
    "df2012[\"year\"] = 2012\n",
    "df2013 = pd.read_csv(\"./names/yob2013.txt\", header=0, names = [\"name\", \"gender\", \"count\"])\n",
    "df2013[\"year\"] = 2013\n",
    "df2014 = pd.read_csv(\"./names/yob2014.txt\", header=0, names = [\"name\", \"gender\", \"count\"])\n",
    "df2014[\"year\"] = 2014\n",
    "df2015 = pd.read_csv(\"./names/yob2015.txt\", header=0, names = [\"name\", \"gender\", \"count\"])\n",
    "df2015[\"year\"] = 2015\n",
    "df2016 = pd.read_csv(\"./names/yob2016.txt\", header=0, names = [\"name\", \"gender\", \"count\"])\n",
    "df2016[\"year\"] = 2016\n",
    "df2017 = pd.read_csv(\"./names/yob2017.txt\", header=0, names = [\"name\", \"gender\", \"count\"])\n",
    "df2017[\"year\"] = 2017\n",
    "df2018 = pd.read_csv(\"./names/yob2018.txt\", header=0, names = [\"name\", \"gender\", \"count\"])\n",
    "df2018[\"year\"] = 2018\n",
    "df2019 = pd.read_csv(\"./names/yob2019.txt\", header=0, names = [\"name\", \"gender\", \"count\"])\n",
    "df2019[\"year\"] = 2019\n",
    "df2020 = pd.read_csv(\"./names/yob2020.txt\", header=0, names = [\"name\", \"gender\", \"count\"])\n",
    "df2020[\"year\"] = 2020\n",
    "df2021 = pd.read_csv(\"./names/yob2021.txt\", header=0, names = [\"name\", \"gender\", \"count\"])\n",
    "df2021[\"year\"] = 2021"
   ]
  },
  {
   "cell_type": "code",
   "execution_count": 6,
   "metadata": {},
   "outputs": [],
   "source": [
    "# Concatenating them into a single data frame.\n",
    "\n",
    "df_babynames = pd.concat([df1880, df1881, df1882, df1883, df1884, df1885, df1886, df1887, df1888, df1889, df1890, df1891, df1892, df1893, df1894, df1895, df1896, df1897, df1898, df1899, df1900, df1901, df1902, df1903, df1904, df1905, df1906, df1907, df1908, df1909, df1910, df1911, df1912, df1913, df1914, df1915, df1916, df1917, df1918, df1919, df1920, df1921, df1922, df1923, df1924, df1925, df1926, df1927, df1928, df1929, df1930, df1931, df1932, df1933, df1934, df1935, df1936, df1937, df1938, df1939, df1940, df1941, df1942, df1943, df1944, df1945, df1946, df1947, df1948, df1949, df1950, df1951, df1952, df1953, df1954, df1955, df1956, df1957, df1958, df1959, df1960, df1961, df1962, df1963, df1964, df1965, df1966, df1967, df1968, df1969, df1970, df1971, df1972, df1973, df1974, df1975, df1976, df1977, df1978, df1979, df1980, df1981, df1982, df1983, df1984, df1985, df1986, df1987, df1988, df1989, df1990, df1991, df1992, df1993, df1994, df1995, df1996, df1997, df1998, df1999, df2000, df2001, df2002, df2003, df2004, df2005, df2006, df2007, df2008, df2009, df2010, df2011, df2012, df2013, df2014, df2015, df2016, df2017, df2018, df2019, df2020, df2021], ignore_index=True)"
   ]
  },
  {
   "cell_type": "code",
   "execution_count": 7,
   "metadata": {},
   "outputs": [
    {
     "data": {
      "text/html": [
       "<div>\n",
       "<style scoped>\n",
       "    .dataframe tbody tr th:only-of-type {\n",
       "        vertical-align: middle;\n",
       "    }\n",
       "\n",
       "    .dataframe tbody tr th {\n",
       "        vertical-align: top;\n",
       "    }\n",
       "\n",
       "    .dataframe thead th {\n",
       "        text-align: right;\n",
       "    }\n",
       "</style>\n",
       "<table border=\"1\" class=\"dataframe\">\n",
       "  <thead>\n",
       "    <tr style=\"text-align: right;\">\n",
       "      <th></th>\n",
       "      <th>name</th>\n",
       "      <th>gender</th>\n",
       "      <th>count</th>\n",
       "      <th>year</th>\n",
       "    </tr>\n",
       "  </thead>\n",
       "  <tbody>\n",
       "    <tr>\n",
       "      <td>0</td>\n",
       "      <td>Anna</td>\n",
       "      <td>F</td>\n",
       "      <td>2604</td>\n",
       "      <td>1880</td>\n",
       "    </tr>\n",
       "    <tr>\n",
       "      <td>1</td>\n",
       "      <td>Emma</td>\n",
       "      <td>F</td>\n",
       "      <td>2003</td>\n",
       "      <td>1880</td>\n",
       "    </tr>\n",
       "    <tr>\n",
       "      <td>2</td>\n",
       "      <td>Elizabeth</td>\n",
       "      <td>F</td>\n",
       "      <td>1939</td>\n",
       "      <td>1880</td>\n",
       "    </tr>\n",
       "    <tr>\n",
       "      <td>3</td>\n",
       "      <td>Minnie</td>\n",
       "      <td>F</td>\n",
       "      <td>1746</td>\n",
       "      <td>1880</td>\n",
       "    </tr>\n",
       "    <tr>\n",
       "      <td>4</td>\n",
       "      <td>Margaret</td>\n",
       "      <td>F</td>\n",
       "      <td>1578</td>\n",
       "      <td>1880</td>\n",
       "    </tr>\n",
       "  </tbody>\n",
       "</table>\n",
       "</div>"
      ],
      "text/plain": [
       "        name gender  count  year\n",
       "0       Anna      F   2604  1880\n",
       "1       Emma      F   2003  1880\n",
       "2  Elizabeth      F   1939  1880\n",
       "3     Minnie      F   1746  1880\n",
       "4   Margaret      F   1578  1880"
      ]
     },
     "execution_count": 7,
     "metadata": {},
     "output_type": "execute_result"
    }
   ],
   "source": [
    "# Inspecting the head of the new, concatenated data frame.\n",
    "\n",
    "df_babynames.head()"
   ]
  },
  {
   "cell_type": "markdown",
   "metadata": {},
   "source": [
    "## Task 3\n",
    "#### Calculating the number of births for each year and visualising them as a line plot."
   ]
  },
  {
   "cell_type": "code",
   "execution_count": 8,
   "metadata": {},
   "outputs": [
    {
     "data": {
      "text/plain": [
       "<matplotlib.axes._subplots.AxesSubplot at 0x7f8340225610>"
      ]
     },
     "execution_count": 8,
     "metadata": {},
     "output_type": "execute_result"
    },
    {
     "data": {
      "image/png": "[encoded data removed]",
      "text/plain": [
       "<Figure size 432x288 with 1 Axes>"
      ]
     },
     "metadata": {
      "needs_background": "light"
     },
     "output_type": "display_data"
    }
   ],
   "source": [
    "df_babynames.plot(x = \"year\")"
   ]
  },
  {
   "cell_type": "code",
   "execution_count": 9,
   "metadata": {},
   "outputs": [
    {
     "data": {
      "text/plain": [
       "<matplotlib.axes._subplots.AxesSubplot at 0x7f8350435890>"
      ]
     },
     "execution_count": 9,
     "metadata": {},
     "output_type": "execute_result"
    },
    {
     "data": {
      "image/png": "[encoded data removed]",
      "text/plain": [
       "<Figure size 432x288 with 1 Axes>"
      ]
     },
     "metadata": {
      "needs_background": "light"
     },
     "output_type": "display_data"
    }
   ],
   "source": [
    "# Seaborn version\n",
    "\n",
    "sns.lineplot(data=df_babynames, x=\"year\", y=\"count\")"
   ]
  },
  {
   "cell_type": "markdown",
   "metadata": {},
   "source": [
    "## Task 4\n",
    "#### Lineplot for my own name"
   ]
  },
  {
   "cell_type": "code",
   "execution_count": 10,
   "metadata": {},
   "outputs": [],
   "source": [
    "# Replacing missing data\n",
    "\n",
    "df_babynames[\"count\"].fillna(0, inplace=True)"
   ]
  },
  {
   "cell_type": "code",
   "execution_count": 11,
   "metadata": {},
   "outputs": [
    {
     "data": {
      "text/html": [
       "<div>\n",
       "<style scoped>\n",
       "    .dataframe tbody tr th:only-of-type {\n",
       "        vertical-align: middle;\n",
       "    }\n",
       "\n",
       "    .dataframe tbody tr th {\n",
       "        vertical-align: top;\n",
       "    }\n",
       "\n",
       "    .dataframe thead th {\n",
       "        text-align: right;\n",
       "    }\n",
       "</style>\n",
       "<table border=\"1\" class=\"dataframe\">\n",
       "  <thead>\n",
       "    <tr style=\"text-align: right;\">\n",
       "      <th></th>\n",
       "      <th>count</th>\n",
       "      <th>year</th>\n",
       "    </tr>\n",
       "  </thead>\n",
       "  <tbody>\n",
       "    <tr>\n",
       "      <td>128042</td>\n",
       "      <td>5</td>\n",
       "      <td>1915</td>\n",
       "    </tr>\n",
       "    <tr>\n",
       "      <td>137723</td>\n",
       "      <td>5</td>\n",
       "      <td>1916</td>\n",
       "    </tr>\n",
       "    <tr>\n",
       "      <td>147626</td>\n",
       "      <td>5</td>\n",
       "      <td>1917</td>\n",
       "    </tr>\n",
       "    <tr>\n",
       "      <td>1714663</td>\n",
       "      <td>8</td>\n",
       "      <td>2011</td>\n",
       "    </tr>\n",
       "    <tr>\n",
       "      <td>1817750</td>\n",
       "      <td>6</td>\n",
       "      <td>2014</td>\n",
       "    </tr>\n",
       "    <tr>\n",
       "      <td>1950682</td>\n",
       "      <td>5</td>\n",
       "      <td>2018</td>\n",
       "    </tr>\n",
       "    <tr>\n",
       "      <td>1980845</td>\n",
       "      <td>6</td>\n",
       "      <td>2019</td>\n",
       "    </tr>\n",
       "  </tbody>\n",
       "</table>\n",
       "</div>"
      ],
      "text/plain": [
       "         count  year\n",
       "128042       5  1915\n",
       "137723       5  1916\n",
       "147626       5  1917\n",
       "1714663      8  2011\n",
       "1817750      6  2014\n",
       "1950682      5  2018\n",
       "1980845      6  2019"
      ]
     },
     "execution_count": 11,
     "metadata": {},
     "output_type": "execute_result"
    }
   ],
   "source": [
    "df_till = df_babynames[df_babynames[\"name\"] == \"Till\"]\n",
    "df_till[[\"count\", \"year\"]]"
   ]
  },
  {
   "cell_type": "code",
   "execution_count": 12,
   "metadata": {
    "scrolled": true
   },
   "outputs": [
    {
     "data": {
      "text/plain": [
       "Text(0, 0.5, 'Count')"
      ]
     },
     "execution_count": 12,
     "metadata": {},
     "output_type": "execute_result"
    },
    {
     "data": {
      "image/png": "[encoded data removed]",
      "text/plain": [
       "<Figure size 432x288 with 1 Axes>"
      ]
     },
     "metadata": {
      "needs_background": "light"
     },
     "output_type": "display_data"
    }
   ],
   "source": [
    "till_plot = sns.lineplot(data=df_till, x = \"year\", y=\"count\")\n",
    "till_plot.set_title(\"Frequency of the name 'Till' among new births\")\n",
    "till_plot.set_xlabel(\"Year\")\n",
    "till_plot.set_ylabel(\"Count\")"
   ]
  },
  {
   "cell_type": "markdown",
   "metadata": {},
   "source": [
    "## Task 5\n",
    "#### Plotting some famous names."
   ]
  },
  {
   "cell_type": "code",
   "execution_count": 13,
   "metadata": {},
   "outputs": [
    {
     "data": {
      "text/html": [
       "<div>\n",
       "<style scoped>\n",
       "    .dataframe tbody tr th:only-of-type {\n",
       "        vertical-align: middle;\n",
       "    }\n",
       "\n",
       "    .dataframe tbody tr th {\n",
       "        vertical-align: top;\n",
       "    }\n",
       "\n",
       "    .dataframe thead th {\n",
       "        text-align: right;\n",
       "    }\n",
       "</style>\n",
       "<table border=\"1\" class=\"dataframe\">\n",
       "  <thead>\n",
       "    <tr style=\"text-align: right;\">\n",
       "      <th></th>\n",
       "      <th>name</th>\n",
       "      <th>gender</th>\n",
       "      <th>count</th>\n",
       "      <th>year</th>\n",
       "    </tr>\n",
       "  </thead>\n",
       "  <tbody>\n",
       "    <tr>\n",
       "      <td>1196</td>\n",
       "      <td>Luke</td>\n",
       "      <td>M</td>\n",
       "      <td>43</td>\n",
       "      <td>1880</td>\n",
       "    </tr>\n",
       "    <tr>\n",
       "      <td>3176</td>\n",
       "      <td>Luke</td>\n",
       "      <td>M</td>\n",
       "      <td>42</td>\n",
       "      <td>1881</td>\n",
       "    </tr>\n",
       "    <tr>\n",
       "      <td>5217</td>\n",
       "      <td>Luke</td>\n",
       "      <td>M</td>\n",
       "      <td>44</td>\n",
       "      <td>1882</td>\n",
       "    </tr>\n",
       "    <tr>\n",
       "      <td>7380</td>\n",
       "      <td>Luke</td>\n",
       "      <td>M</td>\n",
       "      <td>38</td>\n",
       "      <td>1883</td>\n",
       "    </tr>\n",
       "    <tr>\n",
       "      <td>9586</td>\n",
       "      <td>Luke</td>\n",
       "      <td>M</td>\n",
       "      <td>39</td>\n",
       "      <td>1884</td>\n",
       "    </tr>\n",
       "    <tr>\n",
       "      <td>...</td>\n",
       "      <td>...</td>\n",
       "      <td>...</td>\n",
       "      <td>...</td>\n",
       "      <td>...</td>\n",
       "    </tr>\n",
       "    <tr>\n",
       "      <td>2014719</td>\n",
       "      <td>Leia</td>\n",
       "      <td>F</td>\n",
       "      <td>1067</td>\n",
       "      <td>2021</td>\n",
       "    </tr>\n",
       "    <tr>\n",
       "      <td>2014779</td>\n",
       "      <td>Arielle</td>\n",
       "      <td>F</td>\n",
       "      <td>852</td>\n",
       "      <td>2021</td>\n",
       "    </tr>\n",
       "    <tr>\n",
       "      <td>2027315</td>\n",
       "      <td>Luke</td>\n",
       "      <td>F</td>\n",
       "      <td>7</td>\n",
       "      <td>2021</td>\n",
       "    </tr>\n",
       "    <tr>\n",
       "      <td>2028904</td>\n",
       "      <td>Madonna</td>\n",
       "      <td>F</td>\n",
       "      <td>6</td>\n",
       "      <td>2021</td>\n",
       "    </tr>\n",
       "    <tr>\n",
       "      <td>2031996</td>\n",
       "      <td>Luke</td>\n",
       "      <td>M</td>\n",
       "      <td>7660</td>\n",
       "      <td>2021</td>\n",
       "    </tr>\n",
       "  </tbody>\n",
       "</table>\n",
       "<p>437 rows × 4 columns</p>\n",
       "</div>"
      ],
      "text/plain": [
       "            name gender  count  year\n",
       "1196        Luke      M     43  1880\n",
       "3176        Luke      M     42  1881\n",
       "5217        Luke      M     44  1882\n",
       "7380        Luke      M     38  1883\n",
       "9586        Luke      M     39  1884\n",
       "...          ...    ...    ...   ...\n",
       "2014719     Leia      F   1067  2021\n",
       "2014779  Arielle      F    852  2021\n",
       "2027315     Luke      F      7  2021\n",
       "2028904  Madonna      F      6  2021\n",
       "2031996     Luke      M   7660  2021\n",
       "\n",
       "[437 rows x 4 columns]"
      ]
     },
     "execution_count": 13,
     "metadata": {},
     "output_type": "execute_result"
    }
   ],
   "source": [
    "# Creating a list of famous names to search our data frame with\n",
    "\n",
    "names = ['Madonna','Luke','Leia', 'Arielle']\n",
    "famous_names = df_babynames[df_babynames.name.isin(names)]\n",
    "famous_names"
   ]
  },
  {
   "cell_type": "code",
   "execution_count": 14,
   "metadata": {},
   "outputs": [
    {
     "data": {
      "text/plain": [
       "Text(0, 0.5, 'Count')"
      ]
     },
     "execution_count": 14,
     "metadata": {},
     "output_type": "execute_result"
    },
    {
     "data": {
      "image/png": "[encoded data removed]",
      "text/plain": [
       "<Figure size 432x288 with 1 Axes>"
      ]
     },
     "metadata": {
      "needs_background": "light"
     },
     "output_type": "display_data"
    }
   ],
   "source": [
    "# Plotting the frequency of those famous names in seaborn\n",
    "\n",
    "famous_people_plot = sns.lineplot(data=famous_names, x = \"year\", y=\"count\", hue=\"name\")\n",
    "famous_people_plot.set_title(\"Frequency of some famous names among new births\")\n",
    "famous_people_plot.set_xlabel(\"Year\")\n",
    "famous_people_plot.set_ylabel(\"Count\")"
   ]
  },
  {
   "cell_type": "markdown",
   "metadata": {},
   "source": [
    "## Task 6\n",
    "#### Normalizing data from Task 4."
   ]
  },
  {
   "cell_type": "code",
   "execution_count": 21,
   "metadata": {},
   "outputs": [
    {
     "name": "stderr",
     "output_type": "stream",
     "text": [
      "/Users/tillermold/opt/anaconda3/lib/python3.7/site-packages/ipykernel_launcher.py:1: SettingWithCopyWarning: \n",
      "A value is trying to be set on a copy of a slice from a DataFrame.\n",
      "Try using .loc[row_indexer,col_indexer] = value instead\n",
      "\n",
      "See the caveats in the documentation: http://pandas.pydata.org/pandas-docs/stable/user_guide/indexing.html#returning-a-view-versus-a-copy\n",
      "  \"\"\"Entry point for launching an IPython kernel.\n"
     ]
    },
    {
     "data": {
      "text/html": [
       "<div>\n",
       "<style scoped>\n",
       "    .dataframe tbody tr th:only-of-type {\n",
       "        vertical-align: middle;\n",
       "    }\n",
       "\n",
       "    .dataframe tbody tr th {\n",
       "        vertical-align: top;\n",
       "    }\n",
       "\n",
       "    .dataframe thead th {\n",
       "        text-align: right;\n",
       "    }\n",
       "</style>\n",
       "<table border=\"1\" class=\"dataframe\">\n",
       "  <thead>\n",
       "    <tr style=\"text-align: right;\">\n",
       "      <th></th>\n",
       "      <th>count</th>\n",
       "      <th>year</th>\n",
       "      <th>% of total</th>\n",
       "    </tr>\n",
       "  </thead>\n",
       "  <tbody>\n",
       "    <tr>\n",
       "      <td>128042</td>\n",
       "      <td>5</td>\n",
       "      <td>1915</td>\n",
       "      <td>0.000001</td>\n",
       "    </tr>\n",
       "    <tr>\n",
       "      <td>137723</td>\n",
       "      <td>5</td>\n",
       "      <td>1916</td>\n",
       "      <td>0.000001</td>\n",
       "    </tr>\n",
       "    <tr>\n",
       "      <td>147626</td>\n",
       "      <td>5</td>\n",
       "      <td>1917</td>\n",
       "      <td>0.000001</td>\n",
       "    </tr>\n",
       "    <tr>\n",
       "      <td>1714663</td>\n",
       "      <td>8</td>\n",
       "      <td>2011</td>\n",
       "      <td>0.000002</td>\n",
       "    </tr>\n",
       "    <tr>\n",
       "      <td>1817750</td>\n",
       "      <td>6</td>\n",
       "      <td>2014</td>\n",
       "      <td>0.000002</td>\n",
       "    </tr>\n",
       "    <tr>\n",
       "      <td>1950682</td>\n",
       "      <td>5</td>\n",
       "      <td>2018</td>\n",
       "      <td>0.000001</td>\n",
       "    </tr>\n",
       "    <tr>\n",
       "      <td>1980845</td>\n",
       "      <td>6</td>\n",
       "      <td>2019</td>\n",
       "      <td>0.000002</td>\n",
       "    </tr>\n",
       "  </tbody>\n",
       "</table>\n",
       "</div>"
      ],
      "text/plain": [
       "         count  year  % of total\n",
       "128042       5  1915    0.000001\n",
       "137723       5  1916    0.000001\n",
       "147626       5  1917    0.000001\n",
       "1714663      8  2011    0.000002\n",
       "1817750      6  2014    0.000002\n",
       "1950682      5  2018    0.000001\n",
       "1980845      6  2019    0.000002"
      ]
     },
     "execution_count": 21,
     "metadata": {},
     "output_type": "execute_result"
    }
   ],
   "source": [
    "df_till[\"% of total\"] = df_till[\"count\"] / total_names\n",
    "df_till[[\"count\", \"year\", \"% of total\"]].head(10)"
   ]
  }
 ],
 "metadata": {
  "kernelspec": {
   "display_name": "Python 3",
   "language": "python",
   "name": "python3"
  },
  "language_info": {
   "codemirror_mode": {
    "name": "ipython",
    "version": 3
   },
   "file_extension": ".py",
   "mimetype": "text/x-python",
   "name": "python",
   "nbconvert_exporter": "python",
   "pygments_lexer": "ipython3",
   "version": "3.7.4"
  }
 },
 "nbformat": 4,
 "nbformat_minor": 2
}
