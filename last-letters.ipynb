{
 "cells": [
  {
   "cell_type": "code",
   "execution_count": 135,
   "metadata": {},
   "outputs": [],
   "source": [
    "import pandas as pd\n",
    "import numpy as np\n",
    "from matplotlib import pyplot as plt\n",
    "import seaborn as sns\n",
    "import os"
   ]
  },
  {
   "cell_type": "code",
   "execution_count": 136,
   "metadata": {},
   "outputs": [],
   "source": [
    "path = './names/'"
   ]
  },
  {
   "cell_type": "markdown",
   "metadata": {},
   "source": [
    "## Task 1\n",
    "#### Reading all files into a single data frame."
   ]
  },
  {
   "cell_type": "code",
   "execution_count": 137,
   "metadata": {},
   "outputs": [],
   "source": [
    "# task 1\n",
    "\n",
    "data = []\n",
    "for year in range(1880, 2022):\n",
    "    df = pd.read_csv(os.path.join(path, f'yob{year}.txt'), names=['name', 'gender', 'count'])\n",
    "    df['year'] = year\n",
    "    data.append(df)\n",
    "    \n",
    "df = pd.concat(data, axis=0, ignore_index=True)"
   ]
  },
  {
   "cell_type": "code",
   "execution_count": 138,
   "metadata": {},
   "outputs": [
    {
     "data": {
      "text/html": [
       "<div>\n",
       "<style scoped>\n",
       "    .dataframe tbody tr th:only-of-type {\n",
       "        vertical-align: middle;\n",
       "    }\n",
       "\n",
       "    .dataframe tbody tr th {\n",
       "        vertical-align: top;\n",
       "    }\n",
       "\n",
       "    .dataframe thead th {\n",
       "        text-align: right;\n",
       "    }\n",
       "</style>\n",
       "<table border=\"1\" class=\"dataframe\">\n",
       "  <thead>\n",
       "    <tr style=\"text-align: right;\">\n",
       "      <th></th>\n",
       "      <th>name</th>\n",
       "      <th>gender</th>\n",
       "      <th>count</th>\n",
       "      <th>year</th>\n",
       "    </tr>\n",
       "  </thead>\n",
       "  <tbody>\n",
       "    <tr>\n",
       "      <td>0</td>\n",
       "      <td>Mary</td>\n",
       "      <td>F</td>\n",
       "      <td>7065</td>\n",
       "      <td>1880</td>\n",
       "    </tr>\n",
       "    <tr>\n",
       "      <td>1</td>\n",
       "      <td>Anna</td>\n",
       "      <td>F</td>\n",
       "      <td>2604</td>\n",
       "      <td>1880</td>\n",
       "    </tr>\n",
       "    <tr>\n",
       "      <td>2</td>\n",
       "      <td>Emma</td>\n",
       "      <td>F</td>\n",
       "      <td>2003</td>\n",
       "      <td>1880</td>\n",
       "    </tr>\n",
       "    <tr>\n",
       "      <td>3</td>\n",
       "      <td>Elizabeth</td>\n",
       "      <td>F</td>\n",
       "      <td>1939</td>\n",
       "      <td>1880</td>\n",
       "    </tr>\n",
       "    <tr>\n",
       "      <td>4</td>\n",
       "      <td>Minnie</td>\n",
       "      <td>F</td>\n",
       "      <td>1746</td>\n",
       "      <td>1880</td>\n",
       "    </tr>\n",
       "  </tbody>\n",
       "</table>\n",
       "</div>"
      ],
      "text/plain": [
       "        name gender  count  year\n",
       "0       Mary      F   7065  1880\n",
       "1       Anna      F   2604  1880\n",
       "2       Emma      F   2003  1880\n",
       "3  Elizabeth      F   1939  1880\n",
       "4     Minnie      F   1746  1880"
      ]
     },
     "execution_count": 138,
     "metadata": {},
     "output_type": "execute_result"
    }
   ],
   "source": [
    "df.head()"
   ]
  },
  {
   "cell_type": "markdown",
   "metadata": {},
   "source": [
    "## Task 2\n",
    "#### Creating a new column containing the last letters of each name."
   ]
  },
  {
   "cell_type": "code",
   "execution_count": 139,
   "metadata": {},
   "outputs": [
    {
     "data": {
      "text/plain": [
       "0    y\n",
       "1    a\n",
       "2    a\n",
       "3    h\n",
       "4    e\n",
       "Name: name, dtype: object"
      ]
     },
     "execution_count": 139,
     "metadata": {},
     "output_type": "execute_result"
    }
   ],
   "source": [
    "last_letter = df[\"name\"].str[-1:]\n",
    "last_letter.head()"
   ]
  },
  {
   "cell_type": "code",
   "execution_count": 140,
   "metadata": {},
   "outputs": [],
   "source": [
    "df[\"last letter of name\"] = last_letter"
   ]
  },
  {
   "cell_type": "code",
   "execution_count": 141,
   "metadata": {},
   "outputs": [
    {
     "data": {
      "text/html": [
       "<div>\n",
       "<style scoped>\n",
       "    .dataframe tbody tr th:only-of-type {\n",
       "        vertical-align: middle;\n",
       "    }\n",
       "\n",
       "    .dataframe tbody tr th {\n",
       "        vertical-align: top;\n",
       "    }\n",
       "\n",
       "    .dataframe thead th {\n",
       "        text-align: right;\n",
       "    }\n",
       "</style>\n",
       "<table border=\"1\" class=\"dataframe\">\n",
       "  <thead>\n",
       "    <tr style=\"text-align: right;\">\n",
       "      <th></th>\n",
       "      <th>name</th>\n",
       "      <th>gender</th>\n",
       "      <th>count</th>\n",
       "      <th>year</th>\n",
       "      <th>last letter of name</th>\n",
       "    </tr>\n",
       "  </thead>\n",
       "  <tbody>\n",
       "    <tr>\n",
       "      <td>0</td>\n",
       "      <td>Mary</td>\n",
       "      <td>F</td>\n",
       "      <td>7065</td>\n",
       "      <td>1880</td>\n",
       "      <td>y</td>\n",
       "    </tr>\n",
       "    <tr>\n",
       "      <td>1</td>\n",
       "      <td>Anna</td>\n",
       "      <td>F</td>\n",
       "      <td>2604</td>\n",
       "      <td>1880</td>\n",
       "      <td>a</td>\n",
       "    </tr>\n",
       "    <tr>\n",
       "      <td>2</td>\n",
       "      <td>Emma</td>\n",
       "      <td>F</td>\n",
       "      <td>2003</td>\n",
       "      <td>1880</td>\n",
       "      <td>a</td>\n",
       "    </tr>\n",
       "    <tr>\n",
       "      <td>3</td>\n",
       "      <td>Elizabeth</td>\n",
       "      <td>F</td>\n",
       "      <td>1939</td>\n",
       "      <td>1880</td>\n",
       "      <td>h</td>\n",
       "    </tr>\n",
       "    <tr>\n",
       "      <td>4</td>\n",
       "      <td>Minnie</td>\n",
       "      <td>F</td>\n",
       "      <td>1746</td>\n",
       "      <td>1880</td>\n",
       "      <td>e</td>\n",
       "    </tr>\n",
       "  </tbody>\n",
       "</table>\n",
       "</div>"
      ],
      "text/plain": [
       "        name gender  count  year last letter of name\n",
       "0       Mary      F   7065  1880                   y\n",
       "1       Anna      F   2604  1880                   a\n",
       "2       Emma      F   2003  1880                   a\n",
       "3  Elizabeth      F   1939  1880                   h\n",
       "4     Minnie      F   1746  1880                   e"
      ]
     },
     "execution_count": 141,
     "metadata": {},
     "output_type": "execute_result"
    }
   ],
   "source": [
    "df.head()"
   ]
  },
  {
   "cell_type": "markdown",
   "metadata": {},
   "source": [
    "## Task 3\n",
    "#### Creating a bar plot with the count of each last letter and saving it in .png format (Task 7)."
   ]
  },
  {
   "cell_type": "code",
   "execution_count": 142,
   "metadata": {},
   "outputs": [
    {
     "data": {
      "image/png": "[encoded data removed]",
      "text/plain": [
       "<Figure size 432x288 with 1 Axes>"
      ]
     },
     "metadata": {
      "needs_background": "light"
     },
     "output_type": "display_data"
    }
   ],
   "source": [
    "sns.countplot(data=df, x=\"last letter of name\")\n",
    "plt.title(\"Frequency of last letters in baby names\")\n",
    "plt.savefig(\"last-letter-freq.png\", dpi=150)"
   ]
  },
  {
   "cell_type": "markdown",
   "metadata": {},
   "source": [
    "## Task 4\n",
    "#### Creating a timeline and a lineplot for the letter 'Y' and saving it in .png format (Task 7)."
   ]
  },
  {
   "cell_type": "code",
   "execution_count": 143,
   "metadata": {},
   "outputs": [
    {
     "data": {
      "text/plain": [
       "year\n",
       "1880     148\n",
       "1881     142\n",
       "1882     167\n",
       "1883     151\n",
       "1884     179\n",
       "        ... \n",
       "2017    2049\n",
       "2018    2015\n",
       "2019    2031\n",
       "2020    1995\n",
       "2021    2029\n",
       "Name: last letter of name, Length: 142, dtype: int64"
      ]
     },
     "execution_count": 143,
     "metadata": {},
     "output_type": "execute_result"
    }
   ],
   "source": [
    "letter_y = df[df[\"last letter of name\"] == \"y\"].groupby('year')[\"last letter of name\"].count()\n",
    "letter_y"
   ]
  },
  {
   "cell_type": "code",
   "execution_count": 144,
   "metadata": {},
   "outputs": [
    {
     "data": {
      "image/png": "[encoded data removed]",
      "text/plain": [
       "<Figure size 432x288 with 1 Axes>"
      ]
     },
     "metadata": {
      "needs_background": "light"
     },
     "output_type": "display_data"
    }
   ],
   "source": [
    "letter_y_plot = letter_y.plot()\n",
    "plt.title(\"Frequency of 'Y' as the last letter in baby names\")\n",
    "plt.xlabel(\"Year\")\n",
    "plt.ylabel(\"Count\")\n",
    "plt.savefig(\"letterY.png\", dpi=150)\n",
    "plt.show()"
   ]
  },
  {
   "cell_type": "markdown",
   "metadata": {},
   "source": [
    "## Task 5\n",
    "#### Plotting timelines for the letters D, N, and Y. Saving the plot to .png format (Task 7)."
   ]
  },
  {
   "cell_type": "code",
   "execution_count": 145,
   "metadata": {},
   "outputs": [
    {
     "data": {
      "text/plain": [
       "last letter of name  year\n",
       "a                    1880    450\n",
       "                     1881    432\n",
       "                     1882    478\n",
       "                     1883    480\n",
       "                     1884    543\n",
       "                            ... \n",
       "z                    2017    160\n",
       "                     2018    161\n",
       "                     2019    155\n",
       "                     2020    163\n",
       "                     2021    159\n",
       "Name: count, Length: 3530, dtype: int64"
      ]
     },
     "execution_count": 145,
     "metadata": {},
     "output_type": "execute_result"
    }
   ],
   "source": [
    "df_year_ll = df.groupby(['last letter of name', 'year'])['count'].count()\n",
    "df_year_ll"
   ]
  },
  {
   "cell_type": "code",
   "execution_count": 146,
   "metadata": {},
   "outputs": [
    {
     "data": {
      "text/html": [
       "<div>\n",
       "<style scoped>\n",
       "    .dataframe tbody tr th:only-of-type {\n",
       "        vertical-align: middle;\n",
       "    }\n",
       "\n",
       "    .dataframe tbody tr th {\n",
       "        vertical-align: top;\n",
       "    }\n",
       "\n",
       "    .dataframe thead th {\n",
       "        text-align: right;\n",
       "    }\n",
       "</style>\n",
       "<table border=\"1\" class=\"dataframe\">\n",
       "  <thead>\n",
       "    <tr style=\"text-align: right;\">\n",
       "      <th>last letter of name</th>\n",
       "      <th>a</th>\n",
       "      <th>b</th>\n",
       "      <th>c</th>\n",
       "      <th>d</th>\n",
       "      <th>e</th>\n",
       "      <th>f</th>\n",
       "      <th>g</th>\n",
       "      <th>h</th>\n",
       "      <th>i</th>\n",
       "      <th>j</th>\n",
       "      <th>...</th>\n",
       "      <th>q</th>\n",
       "      <th>r</th>\n",
       "      <th>s</th>\n",
       "      <th>t</th>\n",
       "      <th>u</th>\n",
       "      <th>v</th>\n",
       "      <th>w</th>\n",
       "      <th>x</th>\n",
       "      <th>y</th>\n",
       "      <th>z</th>\n",
       "    </tr>\n",
       "    <tr>\n",
       "      <th>year</th>\n",
       "      <th></th>\n",
       "      <th></th>\n",
       "      <th></th>\n",
       "      <th></th>\n",
       "      <th></th>\n",
       "      <th></th>\n",
       "      <th></th>\n",
       "      <th></th>\n",
       "      <th></th>\n",
       "      <th></th>\n",
       "      <th></th>\n",
       "      <th></th>\n",
       "      <th></th>\n",
       "      <th></th>\n",
       "      <th></th>\n",
       "      <th></th>\n",
       "      <th></th>\n",
       "      <th></th>\n",
       "      <th></th>\n",
       "      <th></th>\n",
       "      <th></th>\n",
       "    </tr>\n",
       "  </thead>\n",
       "  <tbody>\n",
       "    <tr>\n",
       "      <td>1880</td>\n",
       "      <td>450.0</td>\n",
       "      <td>7.0</td>\n",
       "      <td>7.0</td>\n",
       "      <td>93.0</td>\n",
       "      <td>490.0</td>\n",
       "      <td>7.0</td>\n",
       "      <td>9.0</td>\n",
       "      <td>60.0</td>\n",
       "      <td>7.0</td>\n",
       "      <td>NaN</td>\n",
       "      <td>...</td>\n",
       "      <td>NaN</td>\n",
       "      <td>89.0</td>\n",
       "      <td>125.0</td>\n",
       "      <td>76.0</td>\n",
       "      <td>5.0</td>\n",
       "      <td>1.0</td>\n",
       "      <td>7.0</td>\n",
       "      <td>4.0</td>\n",
       "      <td>148.0</td>\n",
       "      <td>4.0</td>\n",
       "    </tr>\n",
       "    <tr>\n",
       "      <td>1881</td>\n",
       "      <td>432.0</td>\n",
       "      <td>6.0</td>\n",
       "      <td>8.0</td>\n",
       "      <td>85.0</td>\n",
       "      <td>484.0</td>\n",
       "      <td>5.0</td>\n",
       "      <td>13.0</td>\n",
       "      <td>59.0</td>\n",
       "      <td>6.0</td>\n",
       "      <td>NaN</td>\n",
       "      <td>...</td>\n",
       "      <td>NaN</td>\n",
       "      <td>83.0</td>\n",
       "      <td>116.0</td>\n",
       "      <td>78.0</td>\n",
       "      <td>4.0</td>\n",
       "      <td>1.0</td>\n",
       "      <td>7.0</td>\n",
       "      <td>5.0</td>\n",
       "      <td>142.0</td>\n",
       "      <td>2.0</td>\n",
       "    </tr>\n",
       "    <tr>\n",
       "      <td>1882</td>\n",
       "      <td>478.0</td>\n",
       "      <td>7.0</td>\n",
       "      <td>8.0</td>\n",
       "      <td>96.0</td>\n",
       "      <td>538.0</td>\n",
       "      <td>8.0</td>\n",
       "      <td>10.0</td>\n",
       "      <td>70.0</td>\n",
       "      <td>6.0</td>\n",
       "      <td>NaN</td>\n",
       "      <td>...</td>\n",
       "      <td>NaN</td>\n",
       "      <td>87.0</td>\n",
       "      <td>124.0</td>\n",
       "      <td>83.0</td>\n",
       "      <td>3.0</td>\n",
       "      <td>1.0</td>\n",
       "      <td>8.0</td>\n",
       "      <td>5.0</td>\n",
       "      <td>167.0</td>\n",
       "      <td>4.0</td>\n",
       "    </tr>\n",
       "    <tr>\n",
       "      <td>1883</td>\n",
       "      <td>480.0</td>\n",
       "      <td>5.0</td>\n",
       "      <td>8.0</td>\n",
       "      <td>96.0</td>\n",
       "      <td>542.0</td>\n",
       "      <td>7.0</td>\n",
       "      <td>10.0</td>\n",
       "      <td>61.0</td>\n",
       "      <td>4.0</td>\n",
       "      <td>NaN</td>\n",
       "      <td>...</td>\n",
       "      <td>NaN</td>\n",
       "      <td>86.0</td>\n",
       "      <td>122.0</td>\n",
       "      <td>79.0</td>\n",
       "      <td>4.0</td>\n",
       "      <td>1.0</td>\n",
       "      <td>9.0</td>\n",
       "      <td>6.0</td>\n",
       "      <td>151.0</td>\n",
       "      <td>2.0</td>\n",
       "    </tr>\n",
       "    <tr>\n",
       "      <td>1884</td>\n",
       "      <td>543.0</td>\n",
       "      <td>10.0</td>\n",
       "      <td>7.0</td>\n",
       "      <td>101.0</td>\n",
       "      <td>584.0</td>\n",
       "      <td>6.0</td>\n",
       "      <td>10.0</td>\n",
       "      <td>72.0</td>\n",
       "      <td>4.0</td>\n",
       "      <td>NaN</td>\n",
       "      <td>...</td>\n",
       "      <td>NaN</td>\n",
       "      <td>100.0</td>\n",
       "      <td>133.0</td>\n",
       "      <td>83.0</td>\n",
       "      <td>4.0</td>\n",
       "      <td>1.0</td>\n",
       "      <td>7.0</td>\n",
       "      <td>4.0</td>\n",
       "      <td>179.0</td>\n",
       "      <td>4.0</td>\n",
       "    </tr>\n",
       "    <tr>\n",
       "      <td>...</td>\n",
       "      <td>...</td>\n",
       "      <td>...</td>\n",
       "      <td>...</td>\n",
       "      <td>...</td>\n",
       "      <td>...</td>\n",
       "      <td>...</td>\n",
       "      <td>...</td>\n",
       "      <td>...</td>\n",
       "      <td>...</td>\n",
       "      <td>...</td>\n",
       "      <td>...</td>\n",
       "      <td>...</td>\n",
       "      <td>...</td>\n",
       "      <td>...</td>\n",
       "      <td>...</td>\n",
       "      <td>...</td>\n",
       "      <td>...</td>\n",
       "      <td>...</td>\n",
       "      <td>...</td>\n",
       "      <td>...</td>\n",
       "      <td>...</td>\n",
       "    </tr>\n",
       "    <tr>\n",
       "      <td>2017</td>\n",
       "      <td>6819.0</td>\n",
       "      <td>121.0</td>\n",
       "      <td>113.0</td>\n",
       "      <td>544.0</td>\n",
       "      <td>4091.0</td>\n",
       "      <td>78.0</td>\n",
       "      <td>124.0</td>\n",
       "      <td>2478.0</td>\n",
       "      <td>2424.0</td>\n",
       "      <td>75.0</td>\n",
       "      <td>...</td>\n",
       "      <td>26.0</td>\n",
       "      <td>1384.0</td>\n",
       "      <td>1172.0</td>\n",
       "      <td>504.0</td>\n",
       "      <td>152.0</td>\n",
       "      <td>90.0</td>\n",
       "      <td>52.0</td>\n",
       "      <td>157.0</td>\n",
       "      <td>2049.0</td>\n",
       "      <td>160.0</td>\n",
       "    </tr>\n",
       "    <tr>\n",
       "      <td>2018</td>\n",
       "      <td>6674.0</td>\n",
       "      <td>114.0</td>\n",
       "      <td>98.0</td>\n",
       "      <td>517.0</td>\n",
       "      <td>4009.0</td>\n",
       "      <td>80.0</td>\n",
       "      <td>111.0</td>\n",
       "      <td>2421.0</td>\n",
       "      <td>2503.0</td>\n",
       "      <td>71.0</td>\n",
       "      <td>...</td>\n",
       "      <td>28.0</td>\n",
       "      <td>1381.0</td>\n",
       "      <td>1179.0</td>\n",
       "      <td>488.0</td>\n",
       "      <td>155.0</td>\n",
       "      <td>88.0</td>\n",
       "      <td>51.0</td>\n",
       "      <td>165.0</td>\n",
       "      <td>2015.0</td>\n",
       "      <td>161.0</td>\n",
       "    </tr>\n",
       "    <tr>\n",
       "      <td>2019</td>\n",
       "      <td>6532.0</td>\n",
       "      <td>114.0</td>\n",
       "      <td>110.0</td>\n",
       "      <td>526.0</td>\n",
       "      <td>3965.0</td>\n",
       "      <td>73.0</td>\n",
       "      <td>99.0</td>\n",
       "      <td>2407.0</td>\n",
       "      <td>2658.0</td>\n",
       "      <td>71.0</td>\n",
       "      <td>...</td>\n",
       "      <td>22.0</td>\n",
       "      <td>1424.0</td>\n",
       "      <td>1195.0</td>\n",
       "      <td>471.0</td>\n",
       "      <td>157.0</td>\n",
       "      <td>87.0</td>\n",
       "      <td>52.0</td>\n",
       "      <td>170.0</td>\n",
       "      <td>2031.0</td>\n",
       "      <td>155.0</td>\n",
       "    </tr>\n",
       "    <tr>\n",
       "      <td>2020</td>\n",
       "      <td>6307.0</td>\n",
       "      <td>115.0</td>\n",
       "      <td>112.0</td>\n",
       "      <td>500.0</td>\n",
       "      <td>3879.0</td>\n",
       "      <td>75.0</td>\n",
       "      <td>97.0</td>\n",
       "      <td>2357.0</td>\n",
       "      <td>2724.0</td>\n",
       "      <td>70.0</td>\n",
       "      <td>...</td>\n",
       "      <td>25.0</td>\n",
       "      <td>1409.0</td>\n",
       "      <td>1163.0</td>\n",
       "      <td>480.0</td>\n",
       "      <td>157.0</td>\n",
       "      <td>75.0</td>\n",
       "      <td>51.0</td>\n",
       "      <td>183.0</td>\n",
       "      <td>1995.0</td>\n",
       "      <td>163.0</td>\n",
       "    </tr>\n",
       "    <tr>\n",
       "      <td>2021</td>\n",
       "      <td>6359.0</td>\n",
       "      <td>109.0</td>\n",
       "      <td>96.0</td>\n",
       "      <td>520.0</td>\n",
       "      <td>3907.0</td>\n",
       "      <td>73.0</td>\n",
       "      <td>89.0</td>\n",
       "      <td>2281.0</td>\n",
       "      <td>2788.0</td>\n",
       "      <td>64.0</td>\n",
       "      <td>...</td>\n",
       "      <td>24.0</td>\n",
       "      <td>1441.0</td>\n",
       "      <td>1189.0</td>\n",
       "      <td>486.0</td>\n",
       "      <td>159.0</td>\n",
       "      <td>84.0</td>\n",
       "      <td>56.0</td>\n",
       "      <td>192.0</td>\n",
       "      <td>2029.0</td>\n",
       "      <td>159.0</td>\n",
       "    </tr>\n",
       "  </tbody>\n",
       "</table>\n",
       "<p>142 rows × 26 columns</p>\n",
       "</div>"
      ],
      "text/plain": [
       "last letter of name       a      b      c      d       e     f      g       h  \\\n",
       "year                                                                            \n",
       "1880                  450.0    7.0    7.0   93.0   490.0   7.0    9.0    60.0   \n",
       "1881                  432.0    6.0    8.0   85.0   484.0   5.0   13.0    59.0   \n",
       "1882                  478.0    7.0    8.0   96.0   538.0   8.0   10.0    70.0   \n",
       "1883                  480.0    5.0    8.0   96.0   542.0   7.0   10.0    61.0   \n",
       "1884                  543.0   10.0    7.0  101.0   584.0   6.0   10.0    72.0   \n",
       "...                     ...    ...    ...    ...     ...   ...    ...     ...   \n",
       "2017                 6819.0  121.0  113.0  544.0  4091.0  78.0  124.0  2478.0   \n",
       "2018                 6674.0  114.0   98.0  517.0  4009.0  80.0  111.0  2421.0   \n",
       "2019                 6532.0  114.0  110.0  526.0  3965.0  73.0   99.0  2407.0   \n",
       "2020                 6307.0  115.0  112.0  500.0  3879.0  75.0   97.0  2357.0   \n",
       "2021                 6359.0  109.0   96.0  520.0  3907.0  73.0   89.0  2281.0   \n",
       "\n",
       "last letter of name       i     j  ...     q       r       s      t      u  \\\n",
       "year                               ...                                       \n",
       "1880                    7.0   NaN  ...   NaN    89.0   125.0   76.0    5.0   \n",
       "1881                    6.0   NaN  ...   NaN    83.0   116.0   78.0    4.0   \n",
       "1882                    6.0   NaN  ...   NaN    87.0   124.0   83.0    3.0   \n",
       "1883                    4.0   NaN  ...   NaN    86.0   122.0   79.0    4.0   \n",
       "1884                    4.0   NaN  ...   NaN   100.0   133.0   83.0    4.0   \n",
       "...                     ...   ...  ...   ...     ...     ...    ...    ...   \n",
       "2017                 2424.0  75.0  ...  26.0  1384.0  1172.0  504.0  152.0   \n",
       "2018                 2503.0  71.0  ...  28.0  1381.0  1179.0  488.0  155.0   \n",
       "2019                 2658.0  71.0  ...  22.0  1424.0  1195.0  471.0  157.0   \n",
       "2020                 2724.0  70.0  ...  25.0  1409.0  1163.0  480.0  157.0   \n",
       "2021                 2788.0  64.0  ...  24.0  1441.0  1189.0  486.0  159.0   \n",
       "\n",
       "last letter of name     v     w      x       y      z  \n",
       "year                                                   \n",
       "1880                  1.0   7.0    4.0   148.0    4.0  \n",
       "1881                  1.0   7.0    5.0   142.0    2.0  \n",
       "1882                  1.0   8.0    5.0   167.0    4.0  \n",
       "1883                  1.0   9.0    6.0   151.0    2.0  \n",
       "1884                  1.0   7.0    4.0   179.0    4.0  \n",
       "...                   ...   ...    ...     ...    ...  \n",
       "2017                 90.0  52.0  157.0  2049.0  160.0  \n",
       "2018                 88.0  51.0  165.0  2015.0  161.0  \n",
       "2019                 87.0  52.0  170.0  2031.0  155.0  \n",
       "2020                 75.0  51.0  183.0  1995.0  163.0  \n",
       "2021                 84.0  56.0  192.0  2029.0  159.0  \n",
       "\n",
       "[142 rows x 26 columns]"
      ]
     },
     "execution_count": 146,
     "metadata": {},
     "output_type": "execute_result"
    }
   ],
   "source": [
    "df_year_ll.unstack(0)"
   ]
  },
  {
   "cell_type": "code",
   "execution_count": 147,
   "metadata": {},
   "outputs": [
    {
     "data": {
      "image/png": "[encoded data removed]",
      "text/plain": [
       "<Figure size 432x288 with 1 Axes>"
      ]
     },
     "metadata": {
      "needs_background": "light"
     },
     "output_type": "display_data"
    }
   ],
   "source": [
    "dPlot = df_year_ll[\"d\"]\n",
    "nPlot = df_year_ll[\"n\"]\n",
    "yPlot = df_year_ll[\"y\"]\n",
    "dPlot.plot(color=\"y\", label=\"D\")\n",
    "nPlot.plot(color=\"b\", label=\"N\")\n",
    "yPlot.plot(color=\"r\", label=\"Y\")\n",
    "plt.title(\"Frequency of last letters in baby names\")\n",
    "plt.xlabel(\"Year\")\n",
    "plt.ylabel(\"Count\")\n",
    "plt.legend()\n",
    "plt.savefig(\"plotDNY.png\", dpi=150)\n",
    "plt.show()"
   ]
  },
  {
   "cell_type": "markdown",
   "metadata": {},
   "source": [
    "## Task 6\n",
    "#### Looking at first letter/last letter combinations and displaying them as a heatmap (saving it to .png)."
   ]
  },
  {
   "cell_type": "code",
   "execution_count": 148,
   "metadata": {},
   "outputs": [
    {
     "data": {
      "text/plain": [
       "0    M\n",
       "1    A\n",
       "2    E\n",
       "3    E\n",
       "4    M\n",
       "Name: name, dtype: object"
      ]
     },
     "execution_count": 148,
     "metadata": {},
     "output_type": "execute_result"
    }
   ],
   "source": [
    "first_letter = df[\"name\"].str[:1]\n",
    "first_letter.head()"
   ]
  },
  {
   "cell_type": "code",
   "execution_count": 149,
   "metadata": {},
   "outputs": [
    {
     "data": {
      "text/html": [
       "<div>\n",
       "<style scoped>\n",
       "    .dataframe tbody tr th:only-of-type {\n",
       "        vertical-align: middle;\n",
       "    }\n",
       "\n",
       "    .dataframe tbody tr th {\n",
       "        vertical-align: top;\n",
       "    }\n",
       "\n",
       "    .dataframe thead th {\n",
       "        text-align: right;\n",
       "    }\n",
       "</style>\n",
       "<table border=\"1\" class=\"dataframe\">\n",
       "  <thead>\n",
       "    <tr style=\"text-align: right;\">\n",
       "      <th></th>\n",
       "      <th>name</th>\n",
       "      <th>gender</th>\n",
       "      <th>count</th>\n",
       "      <th>year</th>\n",
       "      <th>last letter of name</th>\n",
       "      <th>first letter of name</th>\n",
       "    </tr>\n",
       "  </thead>\n",
       "  <tbody>\n",
       "    <tr>\n",
       "      <td>0</td>\n",
       "      <td>MARY</td>\n",
       "      <td>F</td>\n",
       "      <td>7065</td>\n",
       "      <td>1880</td>\n",
       "      <td>Y</td>\n",
       "      <td>M</td>\n",
       "    </tr>\n",
       "    <tr>\n",
       "      <td>1</td>\n",
       "      <td>ANNA</td>\n",
       "      <td>F</td>\n",
       "      <td>2604</td>\n",
       "      <td>1880</td>\n",
       "      <td>A</td>\n",
       "      <td>A</td>\n",
       "    </tr>\n",
       "    <tr>\n",
       "      <td>2</td>\n",
       "      <td>EMMA</td>\n",
       "      <td>F</td>\n",
       "      <td>2003</td>\n",
       "      <td>1880</td>\n",
       "      <td>A</td>\n",
       "      <td>E</td>\n",
       "    </tr>\n",
       "    <tr>\n",
       "      <td>3</td>\n",
       "      <td>ELIZABETH</td>\n",
       "      <td>F</td>\n",
       "      <td>1939</td>\n",
       "      <td>1880</td>\n",
       "      <td>H</td>\n",
       "      <td>E</td>\n",
       "    </tr>\n",
       "    <tr>\n",
       "      <td>4</td>\n",
       "      <td>MINNIE</td>\n",
       "      <td>F</td>\n",
       "      <td>1746</td>\n",
       "      <td>1880</td>\n",
       "      <td>E</td>\n",
       "      <td>M</td>\n",
       "    </tr>\n",
       "  </tbody>\n",
       "</table>\n",
       "</div>"
      ],
      "text/plain": [
       "        name gender  count  year last letter of name first letter of name\n",
       "0       MARY      F   7065  1880                   Y                    M\n",
       "1       ANNA      F   2604  1880                   A                    A\n",
       "2       EMMA      F   2003  1880                   A                    E\n",
       "3  ELIZABETH      F   1939  1880                   H                    E\n",
       "4     MINNIE      F   1746  1880                   E                    M"
      ]
     },
     "execution_count": 149,
     "metadata": {},
     "output_type": "execute_result"
    }
   ],
   "source": [
    "df[\"first letter of name\"] = first_letter\n",
    "df['last letter of name'] = df['last letter of name'].str.upper()\n",
    "df['name'] = df['name'].str.upper()\n",
    "df.head()"
   ]
  },
  {
   "cell_type": "code",
   "execution_count": 150,
   "metadata": {},
   "outputs": [
    {
     "data": {
      "text/html": [
       "<div>\n",
       "<style scoped>\n",
       "    .dataframe tbody tr th:only-of-type {\n",
       "        vertical-align: middle;\n",
       "    }\n",
       "\n",
       "    .dataframe tbody tr th {\n",
       "        vertical-align: top;\n",
       "    }\n",
       "\n",
       "    .dataframe thead th {\n",
       "        text-align: right;\n",
       "    }\n",
       "</style>\n",
       "<table border=\"1\" class=\"dataframe\">\n",
       "  <thead>\n",
       "    <tr style=\"text-align: right;\">\n",
       "      <th></th>\n",
       "      <th>name</th>\n",
       "      <th>gender</th>\n",
       "      <th>count</th>\n",
       "      <th>year</th>\n",
       "      <th>last letter of name</th>\n",
       "      <th>first letter of name</th>\n",
       "    </tr>\n",
       "  </thead>\n",
       "  <tbody>\n",
       "    <tr>\n",
       "      <td>0</td>\n",
       "      <td>MARY</td>\n",
       "      <td>F</td>\n",
       "      <td>7065</td>\n",
       "      <td>1880</td>\n",
       "      <td>Y</td>\n",
       "      <td>M</td>\n",
       "    </tr>\n",
       "    <tr>\n",
       "      <td>1</td>\n",
       "      <td>ANNA</td>\n",
       "      <td>F</td>\n",
       "      <td>2604</td>\n",
       "      <td>1880</td>\n",
       "      <td>A</td>\n",
       "      <td>A</td>\n",
       "    </tr>\n",
       "    <tr>\n",
       "      <td>2</td>\n",
       "      <td>EMMA</td>\n",
       "      <td>F</td>\n",
       "      <td>2003</td>\n",
       "      <td>1880</td>\n",
       "      <td>A</td>\n",
       "      <td>E</td>\n",
       "    </tr>\n",
       "    <tr>\n",
       "      <td>3</td>\n",
       "      <td>ELIZABETH</td>\n",
       "      <td>F</td>\n",
       "      <td>1939</td>\n",
       "      <td>1880</td>\n",
       "      <td>H</td>\n",
       "      <td>E</td>\n",
       "    </tr>\n",
       "    <tr>\n",
       "      <td>4</td>\n",
       "      <td>MINNIE</td>\n",
       "      <td>F</td>\n",
       "      <td>1746</td>\n",
       "      <td>1880</td>\n",
       "      <td>E</td>\n",
       "      <td>M</td>\n",
       "    </tr>\n",
       "  </tbody>\n",
       "</table>\n",
       "</div>"
      ],
      "text/plain": [
       "        name gender  count  year last letter of name first letter of name\n",
       "0       MARY      F   7065  1880                   Y                    M\n",
       "1       ANNA      F   2604  1880                   A                    A\n",
       "2       EMMA      F   2003  1880                   A                    E\n",
       "3  ELIZABETH      F   1939  1880                   H                    E\n",
       "4     MINNIE      F   1746  1880                   E                    M"
      ]
     },
     "execution_count": 150,
     "metadata": {},
     "output_type": "execute_result"
    }
   ],
   "source": [
    "df.sort_values(by='count', axis=0)\n",
    "df.head()"
   ]
  },
  {
   "cell_type": "code",
   "execution_count": 151,
   "metadata": {},
   "outputs": [
    {
     "data": {
      "text/plain": [
       "first letter of name  last letter of name\n",
       "A                     A                      66332\n",
       "                      B                        398\n",
       "                      C                        744\n",
       "                      D                       3247\n",
       "                      E                      31096\n",
       "                                             ...  \n",
       "Z                     V                        108\n",
       "                      W                          4\n",
       "                      X                          2\n",
       "                      Y                       1595\n",
       "                      Z                         12\n",
       "Name: count, Length: 626, dtype: int64"
      ]
     },
     "execution_count": 151,
     "metadata": {},
     "output_type": "execute_result"
    }
   ],
   "source": [
    "df_first_last = df.groupby(['first letter of name', 'last letter of name'])['count'].count()\n",
    "df_first_last"
   ]
  },
  {
   "cell_type": "code",
   "execution_count": 152,
   "metadata": {
    "scrolled": true
   },
   "outputs": [],
   "source": [
    "df_FL = df_first_last.unstack(0)"
   ]
  },
  {
   "cell_type": "code",
   "execution_count": 153,
   "metadata": {},
   "outputs": [
    {
     "data": {
      "text/html": [
       "<div>\n",
       "<style scoped>\n",
       "    .dataframe tbody tr th:only-of-type {\n",
       "        vertical-align: middle;\n",
       "    }\n",
       "\n",
       "    .dataframe tbody tr th {\n",
       "        vertical-align: top;\n",
       "    }\n",
       "\n",
       "    .dataframe thead th {\n",
       "        text-align: right;\n",
       "    }\n",
       "</style>\n",
       "<table border=\"1\" class=\"dataframe\">\n",
       "  <thead>\n",
       "    <tr style=\"text-align: right;\">\n",
       "      <th>first letter of name</th>\n",
       "      <th>A</th>\n",
       "      <th>B</th>\n",
       "      <th>C</th>\n",
       "      <th>D</th>\n",
       "      <th>E</th>\n",
       "      <th>F</th>\n",
       "      <th>G</th>\n",
       "      <th>H</th>\n",
       "      <th>I</th>\n",
       "      <th>J</th>\n",
       "      <th>...</th>\n",
       "      <th>Q</th>\n",
       "      <th>R</th>\n",
       "      <th>S</th>\n",
       "      <th>T</th>\n",
       "      <th>U</th>\n",
       "      <th>V</th>\n",
       "      <th>W</th>\n",
       "      <th>X</th>\n",
       "      <th>Y</th>\n",
       "      <th>Z</th>\n",
       "    </tr>\n",
       "    <tr>\n",
       "      <th>last letter of name</th>\n",
       "      <th></th>\n",
       "      <th></th>\n",
       "      <th></th>\n",
       "      <th></th>\n",
       "      <th></th>\n",
       "      <th></th>\n",
       "      <th></th>\n",
       "      <th></th>\n",
       "      <th></th>\n",
       "      <th></th>\n",
       "      <th></th>\n",
       "      <th></th>\n",
       "      <th></th>\n",
       "      <th></th>\n",
       "      <th></th>\n",
       "      <th></th>\n",
       "      <th></th>\n",
       "      <th></th>\n",
       "      <th></th>\n",
       "      <th></th>\n",
       "      <th></th>\n",
       "    </tr>\n",
       "  </thead>\n",
       "  <tbody>\n",
       "    <tr>\n",
       "      <td>A</td>\n",
       "      <td>66332.0</td>\n",
       "      <td>13044.0</td>\n",
       "      <td>29486.0</td>\n",
       "      <td>32302.0</td>\n",
       "      <td>23524.0</td>\n",
       "      <td>8495.0</td>\n",
       "      <td>10762.0</td>\n",
       "      <td>6138.0</td>\n",
       "      <td>10835.0</td>\n",
       "      <td>25602.0</td>\n",
       "      <td>...</td>\n",
       "      <td>1626.0</td>\n",
       "      <td>23573.0</td>\n",
       "      <td>43570.0</td>\n",
       "      <td>37680.0</td>\n",
       "      <td>1259.0</td>\n",
       "      <td>14418.0</td>\n",
       "      <td>4076.0</td>\n",
       "      <td>979.0</td>\n",
       "      <td>5590.0</td>\n",
       "      <td>9675.0</td>\n",
       "    </tr>\n",
       "    <tr>\n",
       "      <td>B</td>\n",
       "      <td>398.0</td>\n",
       "      <td>239.0</td>\n",
       "      <td>430.0</td>\n",
       "      <td>43.0</td>\n",
       "      <td>151.0</td>\n",
       "      <td>NaN</td>\n",
       "      <td>63.0</td>\n",
       "      <td>227.0</td>\n",
       "      <td>4.0</td>\n",
       "      <td>1043.0</td>\n",
       "      <td>...</td>\n",
       "      <td>NaN</td>\n",
       "      <td>271.0</td>\n",
       "      <td>340.0</td>\n",
       "      <td>126.0</td>\n",
       "      <td>NaN</td>\n",
       "      <td>NaN</td>\n",
       "      <td>136.0</td>\n",
       "      <td>NaN</td>\n",
       "      <td>124.0</td>\n",
       "      <td>448.0</td>\n",
       "    </tr>\n",
       "    <tr>\n",
       "      <td>C</td>\n",
       "      <td>744.0</td>\n",
       "      <td>157.0</td>\n",
       "      <td>378.0</td>\n",
       "      <td>1092.0</td>\n",
       "      <td>514.0</td>\n",
       "      <td>291.0</td>\n",
       "      <td>20.0</td>\n",
       "      <td>21.0</td>\n",
       "      <td>760.0</td>\n",
       "      <td>381.0</td>\n",
       "      <td>...</td>\n",
       "      <td>27.0</td>\n",
       "      <td>292.0</td>\n",
       "      <td>114.0</td>\n",
       "      <td>189.0</td>\n",
       "      <td>63.0</td>\n",
       "      <td>104.0</td>\n",
       "      <td>10.0</td>\n",
       "      <td>23.0</td>\n",
       "      <td>8.0</td>\n",
       "      <td>111.0</td>\n",
       "    </tr>\n",
       "    <tr>\n",
       "      <td>D</td>\n",
       "      <td>3247.0</td>\n",
       "      <td>3022.0</td>\n",
       "      <td>2138.0</td>\n",
       "      <td>3117.0</td>\n",
       "      <td>2503.0</td>\n",
       "      <td>1526.0</td>\n",
       "      <td>2563.0</td>\n",
       "      <td>2686.0</td>\n",
       "      <td>428.0</td>\n",
       "      <td>3230.0</td>\n",
       "      <td>...</td>\n",
       "      <td>37.0</td>\n",
       "      <td>6536.0</td>\n",
       "      <td>3443.0</td>\n",
       "      <td>1606.0</td>\n",
       "      <td>47.0</td>\n",
       "      <td>269.0</td>\n",
       "      <td>2449.0</td>\n",
       "      <td>NaN</td>\n",
       "      <td>202.0</td>\n",
       "      <td>494.0</td>\n",
       "    </tr>\n",
       "    <tr>\n",
       "      <td>E</td>\n",
       "      <td>31096.0</td>\n",
       "      <td>16117.0</td>\n",
       "      <td>31701.0</td>\n",
       "      <td>26567.0</td>\n",
       "      <td>18068.0</td>\n",
       "      <td>5676.0</td>\n",
       "      <td>12163.0</td>\n",
       "      <td>6625.0</td>\n",
       "      <td>3671.0</td>\n",
       "      <td>35234.0</td>\n",
       "      <td>...</td>\n",
       "      <td>633.0</td>\n",
       "      <td>17300.0</td>\n",
       "      <td>22708.0</td>\n",
       "      <td>15125.0</td>\n",
       "      <td>363.0</td>\n",
       "      <td>7259.0</td>\n",
       "      <td>3854.0</td>\n",
       "      <td>213.0</td>\n",
       "      <td>1941.0</td>\n",
       "      <td>2946.0</td>\n",
       "    </tr>\n",
       "  </tbody>\n",
       "</table>\n",
       "<p>5 rows × 26 columns</p>\n",
       "</div>"
      ],
      "text/plain": [
       "first letter of name        A        B        C        D        E       F  \\\n",
       "last letter of name                                                         \n",
       "A                     66332.0  13044.0  29486.0  32302.0  23524.0  8495.0   \n",
       "B                       398.0    239.0    430.0     43.0    151.0     NaN   \n",
       "C                       744.0    157.0    378.0   1092.0    514.0   291.0   \n",
       "D                      3247.0   3022.0   2138.0   3117.0   2503.0  1526.0   \n",
       "E                     31096.0  16117.0  31701.0  26567.0  18068.0  5676.0   \n",
       "\n",
       "first letter of name        G       H        I        J  ...       Q        R  \\\n",
       "last letter of name                                      ...                    \n",
       "A                     10762.0  6138.0  10835.0  25602.0  ...  1626.0  23573.0   \n",
       "B                        63.0   227.0      4.0   1043.0  ...     NaN    271.0   \n",
       "C                        20.0    21.0    760.0    381.0  ...    27.0    292.0   \n",
       "D                      2563.0  2686.0    428.0   3230.0  ...    37.0   6536.0   \n",
       "E                     12163.0  6625.0   3671.0  35234.0  ...   633.0  17300.0   \n",
       "\n",
       "first letter of name        S        T       U        V       W      X  \\\n",
       "last letter of name                                                      \n",
       "A                     43570.0  37680.0  1259.0  14418.0  4076.0  979.0   \n",
       "B                       340.0    126.0     NaN      NaN   136.0    NaN   \n",
       "C                       114.0    189.0    63.0    104.0    10.0   23.0   \n",
       "D                      3443.0   1606.0    47.0    269.0  2449.0    NaN   \n",
       "E                     22708.0  15125.0   363.0   7259.0  3854.0  213.0   \n",
       "\n",
       "first letter of name       Y       Z  \n",
       "last letter of name                   \n",
       "A                     5590.0  9675.0  \n",
       "B                      124.0   448.0  \n",
       "C                        8.0   111.0  \n",
       "D                      202.0   494.0  \n",
       "E                     1941.0  2946.0  \n",
       "\n",
       "[5 rows x 26 columns]"
      ]
     },
     "execution_count": 153,
     "metadata": {},
     "output_type": "execute_result"
    }
   ],
   "source": [
    "df_FL.head()"
   ]
  },
  {
   "cell_type": "code",
   "execution_count": 154,
   "metadata": {},
   "outputs": [
    {
     "data": {
      "image/png": "[encoded data removed]",
      "text/plain": [
       "<Figure size 432x288 with 2 Axes>"
      ]
     },
     "metadata": {
      "needs_background": "light"
     },
     "output_type": "display_data"
    }
   ],
   "source": [
    "heatmap_FL = sns.heatmap(df_FL)\n",
    "plt.title(\"Combination of first & last letters in baby names\")\n",
    "plt.xlabel(\"First Letter of Name\")\n",
    "plt.ylabel(\"Last Letter of Name\")\n",
    "plt.savefig(\"heatmap.png\", dpi=150)"
   ]
  },
  {
   "cell_type": "markdown",
   "metadata": {},
   "source": [
    "## Task 8\n",
    "#### It makes the most sense to me to plot comparison between the last letters in boy's and girl's names as a grouped bar chart for each letter. Having the bars for boys and girls next to each other allows for the most vivid illustration of differences. A powerful alternative would be a faceted bar chart with each letter having its own diagram. "
   ]
  },
  {
   "cell_type": "markdown",
   "metadata": {},
   "source": [
    "### Version 1"
   ]
  },
  {
   "cell_type": "code",
   "execution_count": 155,
   "metadata": {},
   "outputs": [
    {
     "data": {
      "text/plain": [
       "last letter of name  gender\n",
       "A                    F         494397\n",
       "                     M          29294\n",
       "B                    F            640\n",
       "                     M           4345\n",
       "C                    F            900\n",
       "                     M           6098\n",
       "D                    F           7343\n",
       "                     M          41674\n",
       "E                    F         259292\n",
       "                     M         102748\n",
       "F                    F            215\n",
       "                     M           3813\n",
       "G                    F           1988\n",
       "                     M           5998\n",
       "H                    F          59294\n",
       "                     M          23939\n",
       "I                    F          62726\n",
       "                     M          25876\n",
       "J                    F            275\n",
       "                     M           1851\n",
       "K                    F           1838\n",
       "                     M          17368\n",
       "L                    F          40558\n",
       "                     M          69992\n",
       "M                    F           4879\n",
       "                     M          16767\n",
       "N                    F         127940\n",
       "                     M         212356\n",
       "O                    F           9489\n",
       "                     M          62527\n",
       "P                    F            401\n",
       "                     M           2275\n",
       "Q                    F             67\n",
       "                     M            731\n",
       "R                    F          17222\n",
       "                     M          50964\n",
       "S                    F          22967\n",
       "                     M          61305\n",
       "T                    F          12804\n",
       "                     M          24394\n",
       "U                    F           2713\n",
       "                     M           3664\n",
       "V                    F            156\n",
       "                     M           2231\n",
       "W                    F            847\n",
       "                     M           2587\n",
       "X                    F           1402\n",
       "                     M           3052\n",
       "Y                    F          77129\n",
       "                     M          61637\n",
       "Z                    F           2384\n",
       "                     M           5429\n",
       "Name: count, dtype: int64"
      ]
     },
     "execution_count": 155,
     "metadata": {},
     "output_type": "execute_result"
    }
   ],
   "source": [
    "# Getting the sum total of last letters by gender\n",
    "\n",
    "df_last_gender = df.groupby(['last letter of name', 'gender'])['count'].count()\n",
    "df_last_gender"
   ]
  },
  {
   "cell_type": "code",
   "execution_count": 156,
   "metadata": {},
   "outputs": [
    {
     "data": {
      "text/plain": [
       "last letter of name  gender\n",
       "A                    F         5.694076\n",
       "                     M         4.466779\n",
       "B                    F         2.806180\n",
       "                     M         3.637990\n",
       "C                    F         2.954243\n",
       "                     M         3.785187\n",
       "D                    F         3.865874\n",
       "                     M         4.619865\n",
       "E                    F         5.413789\n",
       "                     M         5.011773\n",
       "F                    F         2.332438\n",
       "                     M         3.581267\n",
       "G                    F         3.298416\n",
       "                     M         3.778006\n",
       "H                    F         4.773011\n",
       "                     M         4.379106\n",
       "I                    F         4.797448\n",
       "                     M         4.412897\n",
       "J                    F         2.439333\n",
       "                     M         3.267406\n",
       "K                    F         3.264346\n",
       "                     M         4.239750\n",
       "L                    F         4.608077\n",
       "                     M         4.845048\n",
       "M                    F         3.688331\n",
       "                     M         4.224455\n",
       "N                    F         5.107006\n",
       "                     M         5.327065\n",
       "O                    F         3.977220\n",
       "                     M         4.796068\n",
       "P                    F         2.603144\n",
       "                     M         3.356981\n",
       "Q                    F         1.826075\n",
       "                     M         2.863917\n",
       "R                    F         4.236084\n",
       "                     M         4.707264\n",
       "S                    F         4.361104\n",
       "                     M         4.787496\n",
       "T                    F         4.107346\n",
       "                     M         4.387283\n",
       "U                    F         3.433450\n",
       "                     M         3.563955\n",
       "V                    F         2.193125\n",
       "                     M         3.348500\n",
       "W                    F         2.927883\n",
       "                     M         3.412796\n",
       "X                    F         3.146748\n",
       "                     M         3.484585\n",
       "Y                    F         4.887218\n",
       "                     M         4.789841\n",
       "Z                    F         3.377306\n",
       "                     M         3.734720\n",
       "Name: count, dtype: float64"
      ]
     },
     "execution_count": 156,
     "metadata": {},
     "output_type": "execute_result"
    }
   ],
   "source": [
    "# Log-transforming the data\n",
    "\n",
    "df_last_gender_log10 = np.log10(df_last_gender)\n",
    "df_last_gender_log10"
   ]
  },
  {
   "cell_type": "code",
   "execution_count": 157,
   "metadata": {},
   "outputs": [
    {
     "data": {
      "text/plain": [
       "Text(0, 0.5, 'Count')"
      ]
     },
     "execution_count": 157,
     "metadata": {},
     "output_type": "execute_result"
    },
    {
     "data": {
      "image/png": "[encoded data removed]",
      "text/plain": [
       "<Figure size 432x288 with 1 Axes>"
      ]
     },
     "metadata": {
      "needs_background": "light"
     },
     "output_type": "display_data"
    }
   ],
   "source": [
    "df_last_gender_log10.plot.bar(color=['red', 'blue'])\n",
    "plt.title(\"Frequency of Last Letters by Gender\")\n",
    "plt.xlabel(\"Last Letters and Gender\")\n",
    "plt.ylabel(\"Count\")"
   ]
  },
  {
   "cell_type": "markdown",
   "metadata": {},
   "source": [
    "###  Version 2"
   ]
  },
  {
   "cell_type": "code",
   "execution_count": 158,
   "metadata": {},
   "outputs": [
    {
     "data": {
      "text/plain": [
       "last letter of name\n",
       "A    63380722\n",
       "B     1560660\n",
       "C     1799702\n",
       "D    17391365\n",
       "E    54249070\n",
       "F      227057\n",
       "G      664992\n",
       "H    16165036\n",
       "I     5404309\n",
       "J       45362\n",
       "K     5629448\n",
       "L    21674899\n",
       "M     6607764\n",
       "N    62068055\n",
       "O     5239906\n",
       "P      702510\n",
       "Q       16309\n",
       "R    15379404\n",
       "S    21826860\n",
       "T    12416166\n",
       "U      206395\n",
       "V       74936\n",
       "W     3251588\n",
       "X      801561\n",
       "Y    44819340\n",
       "Z      284817\n",
       "Name: count, dtype: int64"
      ]
     },
     "execution_count": 158,
     "metadata": {},
     "output_type": "execute_result"
    }
   ],
   "source": [
    "# Getting the sum total for each letter\n",
    "\n",
    "year_total = df.groupby('last letter of name')['count'].sum()\n",
    "year_total"
   ]
  },
  {
   "cell_type": "code",
   "execution_count": 159,
   "metadata": {},
   "outputs": [
    {
     "data": {
      "text/plain": [
       "last letter of name  gender\n",
       "A                    F         0.007800\n",
       "                     M         0.000462\n",
       "B                    F         0.000410\n",
       "                     M         0.002784\n",
       "C                    F         0.000500\n",
       "Name: count, dtype: float64"
      ]
     },
     "execution_count": 159,
     "metadata": {},
     "output_type": "execute_result"
    }
   ],
   "source": [
    "# Normalisation\n",
    "\n",
    "df_LG_normalised = df_last_gender / year_total\n",
    "np.log10(df_LG_normalised)\n",
    "df_LG_normalised.head()"
   ]
  },
  {
   "cell_type": "code",
   "execution_count": 160,
   "metadata": {
    "scrolled": true
   },
   "outputs": [
    {
     "data": {
      "text/plain": [
       "Text(0, 0.5, 'Count')"
      ]
     },
     "execution_count": 160,
     "metadata": {},
     "output_type": "execute_result"
    },
    {
     "data": {
      "image/png": "[encoded data removed]",
      "text/plain": [
       "<Figure size 432x288 with 1 Axes>"
      ]
     },
     "metadata": {
      "needs_background": "light"
     },
     "output_type": "display_data"
    }
   ],
   "source": [
    "# Plotting the data after normalisation\n",
    "\n",
    "df_LG_normalised.plot(kind='bar', stacked=True, color=['red', 'blue'])\n",
    "plt.title(\"Frequency of Last Letters by Gender\")\n",
    "plt.xlabel(\"Last Letters and Gender\")\n",
    "plt.ylabel(\"Count\")"
   ]
  }
 ],
 "metadata": {
  "kernelspec": {
   "display_name": "Python 3",
   "language": "python",
   "name": "python3"
  },
  "language_info": {
   "codemirror_mode": {
    "name": "ipython",
    "version": 3
   },
   "file_extension": ".py",
   "mimetype": "text/x-python",
   "name": "python",
   "nbconvert_exporter": "python",
   "pygments_lexer": "ipython3",
   "version": "3.7.4"
  }
 },
 "nbformat": 4,
 "nbformat_minor": 2
}
