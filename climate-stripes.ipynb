{
 "cells": [
  {
   "cell_type": "code",
   "execution_count": 64,
   "metadata": {},
   "outputs": [],
   "source": [
    "import pandas as pd\n",
    "from matplotlib import pyplot as plt\n",
    "import seaborn as sns"
   ]
  },
  {
   "cell_type": "markdown",
   "metadata": {},
   "source": [
    "## Step 2\n",
    "#### Reading in and inspecting the data"
   ]
  },
  {
   "cell_type": "code",
   "execution_count": 65,
   "metadata": {},
   "outputs": [
    {
     "data": {
      "text/html": [
       "<div>\n",
       "<style scoped>\n",
       "    .dataframe tbody tr th:only-of-type {\n",
       "        vertical-align: middle;\n",
       "    }\n",
       "\n",
       "    .dataframe tbody tr th {\n",
       "        vertical-align: top;\n",
       "    }\n",
       "\n",
       "    .dataframe thead th {\n",
       "        text-align: right;\n",
       "    }\n",
       "</style>\n",
       "<table border=\"1\" class=\"dataframe\">\n",
       "  <thead>\n",
       "    <tr style=\"text-align: right;\">\n",
       "      <th></th>\n",
       "      <th>SOUID</th>\n",
       "      <th>DATE</th>\n",
       "      <th>TG</th>\n",
       "      <th>Q_TG</th>\n",
       "    </tr>\n",
       "  </thead>\n",
       "  <tbody>\n",
       "    <tr>\n",
       "      <td>0</td>\n",
       "      <td>127440</td>\n",
       "      <td>19610101</td>\n",
       "      <td>12</td>\n",
       "      <td>0</td>\n",
       "    </tr>\n",
       "    <tr>\n",
       "      <td>1</td>\n",
       "      <td>127440</td>\n",
       "      <td>19610102</td>\n",
       "      <td>0</td>\n",
       "      <td>0</td>\n",
       "    </tr>\n",
       "    <tr>\n",
       "      <td>2</td>\n",
       "      <td>127440</td>\n",
       "      <td>19610103</td>\n",
       "      <td>27</td>\n",
       "      <td>0</td>\n",
       "    </tr>\n",
       "    <tr>\n",
       "      <td>3</td>\n",
       "      <td>127440</td>\n",
       "      <td>19610104</td>\n",
       "      <td>16</td>\n",
       "      <td>0</td>\n",
       "    </tr>\n",
       "    <tr>\n",
       "      <td>4</td>\n",
       "      <td>127440</td>\n",
       "      <td>19610105</td>\n",
       "      <td>12</td>\n",
       "      <td>0</td>\n",
       "    </tr>\n",
       "  </tbody>\n",
       "</table>\n",
       "</div>"
      ],
      "text/plain": [
       "    SOUID      DATE     TG   Q_TG\n",
       "0  127440  19610101     12      0\n",
       "1  127440  19610102      0      0\n",
       "2  127440  19610103     27      0\n",
       "3  127440  19610104     16      0\n",
       "4  127440  19610105     12      0"
      ]
     },
     "execution_count": 65,
     "metadata": {},
     "output_type": "execute_result"
    }
   ],
   "source": [
    "df = pd.read_csv(\"TG_STAID004529.txt\", skiprows=19)\n",
    "df.head()"
   ]
  },
  {
   "cell_type": "code",
   "execution_count": 66,
   "metadata": {},
   "outputs": [
    {
     "name": "stdout",
     "output_type": "stream",
     "text": [
      "<class 'pandas.core.frame.DataFrame'>\n",
      "RangeIndex: 22523 entries, 0 to 22522\n",
      "Data columns (total 4 columns):\n",
      " SOUID      22523 non-null int64\n",
      "    DATE    22523 non-null int64\n",
      "   TG       22523 non-null int64\n",
      " Q_TG       22523 non-null int64\n",
      "dtypes: int64(4)\n",
      "memory usage: 704.0 KB\n"
     ]
    }
   ],
   "source": [
    "df.info()"
   ]
  },
  {
   "cell_type": "code",
   "execution_count": 67,
   "metadata": {},
   "outputs": [
    {
     "data": {
      "text/plain": [
       "Index([' SOUID', '    DATE', '   TG', ' Q_TG'], dtype='object')"
      ]
     },
     "execution_count": 67,
     "metadata": {},
     "output_type": "execute_result"
    }
   ],
   "source": [
    "df.keys()"
   ]
  },
  {
   "cell_type": "code",
   "execution_count": 68,
   "metadata": {},
   "outputs": [],
   "source": [
    "# Removing all whitespace from column names\n",
    "\n",
    "df.columns = df.columns.str.strip()"
   ]
  },
  {
   "cell_type": "code",
   "execution_count": 69,
   "metadata": {},
   "outputs": [
    {
     "data": {
      "text/plain": [
       "Index(['SOUID', 'DATE', 'TG', 'Q_TG'], dtype='object')"
      ]
     },
     "execution_count": 69,
     "metadata": {},
     "output_type": "execute_result"
    }
   ],
   "source": [
    "df.keys()"
   ]
  },
  {
   "cell_type": "markdown",
   "metadata": {},
   "source": [
    "## Step 3\n",
    "#### Creating a new temperature column and plotting the raw data as a lineplot."
   ]
  },
  {
   "cell_type": "code",
   "execution_count": 70,
   "metadata": {},
   "outputs": [
    {
     "data": {
      "text/html": [
       "<div>\n",
       "<style scoped>\n",
       "    .dataframe tbody tr th:only-of-type {\n",
       "        vertical-align: middle;\n",
       "    }\n",
       "\n",
       "    .dataframe tbody tr th {\n",
       "        vertical-align: top;\n",
       "    }\n",
       "\n",
       "    .dataframe thead th {\n",
       "        text-align: right;\n",
       "    }\n",
       "</style>\n",
       "<table border=\"1\" class=\"dataframe\">\n",
       "  <thead>\n",
       "    <tr style=\"text-align: right;\">\n",
       "      <th></th>\n",
       "      <th>SOUID</th>\n",
       "      <th>DATE</th>\n",
       "      <th>TG</th>\n",
       "      <th>Q_TG</th>\n",
       "      <th>temperature</th>\n",
       "    </tr>\n",
       "  </thead>\n",
       "  <tbody>\n",
       "    <tr>\n",
       "      <td>0</td>\n",
       "      <td>127440</td>\n",
       "      <td>19610101</td>\n",
       "      <td>12</td>\n",
       "      <td>0</td>\n",
       "      <td>1.2</td>\n",
       "    </tr>\n",
       "    <tr>\n",
       "      <td>1</td>\n",
       "      <td>127440</td>\n",
       "      <td>19610102</td>\n",
       "      <td>0</td>\n",
       "      <td>0</td>\n",
       "      <td>0.0</td>\n",
       "    </tr>\n",
       "    <tr>\n",
       "      <td>2</td>\n",
       "      <td>127440</td>\n",
       "      <td>19610103</td>\n",
       "      <td>27</td>\n",
       "      <td>0</td>\n",
       "      <td>2.7</td>\n",
       "    </tr>\n",
       "    <tr>\n",
       "      <td>3</td>\n",
       "      <td>127440</td>\n",
       "      <td>19610104</td>\n",
       "      <td>16</td>\n",
       "      <td>0</td>\n",
       "      <td>1.6</td>\n",
       "    </tr>\n",
       "    <tr>\n",
       "      <td>4</td>\n",
       "      <td>127440</td>\n",
       "      <td>19610105</td>\n",
       "      <td>12</td>\n",
       "      <td>0</td>\n",
       "      <td>1.2</td>\n",
       "    </tr>\n",
       "    <tr>\n",
       "      <td>...</td>\n",
       "      <td>...</td>\n",
       "      <td>...</td>\n",
       "      <td>...</td>\n",
       "      <td>...</td>\n",
       "      <td>...</td>\n",
       "    </tr>\n",
       "    <tr>\n",
       "      <td>22518</td>\n",
       "      <td>127440</td>\n",
       "      <td>20220827</td>\n",
       "      <td>203</td>\n",
       "      <td>0</td>\n",
       "      <td>20.3</td>\n",
       "    </tr>\n",
       "    <tr>\n",
       "      <td>22519</td>\n",
       "      <td>127440</td>\n",
       "      <td>20220828</td>\n",
       "      <td>171</td>\n",
       "      <td>0</td>\n",
       "      <td>17.1</td>\n",
       "    </tr>\n",
       "    <tr>\n",
       "      <td>22520</td>\n",
       "      <td>127440</td>\n",
       "      <td>20220829</td>\n",
       "      <td>161</td>\n",
       "      <td>0</td>\n",
       "      <td>16.1</td>\n",
       "    </tr>\n",
       "    <tr>\n",
       "      <td>22521</td>\n",
       "      <td>127440</td>\n",
       "      <td>20220830</td>\n",
       "      <td>162</td>\n",
       "      <td>0</td>\n",
       "      <td>16.2</td>\n",
       "    </tr>\n",
       "    <tr>\n",
       "      <td>22522</td>\n",
       "      <td>127440</td>\n",
       "      <td>20220831</td>\n",
       "      <td>-9999</td>\n",
       "      <td>9</td>\n",
       "      <td>-999.9</td>\n",
       "    </tr>\n",
       "  </tbody>\n",
       "</table>\n",
       "<p>22523 rows × 5 columns</p>\n",
       "</div>"
      ],
      "text/plain": [
       "        SOUID      DATE    TG  Q_TG  temperature\n",
       "0      127440  19610101    12     0          1.2\n",
       "1      127440  19610102     0     0          0.0\n",
       "2      127440  19610103    27     0          2.7\n",
       "3      127440  19610104    16     0          1.6\n",
       "4      127440  19610105    12     0          1.2\n",
       "...       ...       ...   ...   ...          ...\n",
       "22518  127440  20220827   203     0         20.3\n",
       "22519  127440  20220828   171     0         17.1\n",
       "22520  127440  20220829   161     0         16.1\n",
       "22521  127440  20220830   162     0         16.2\n",
       "22522  127440  20220831 -9999     9       -999.9\n",
       "\n",
       "[22523 rows x 5 columns]"
      ]
     },
     "execution_count": 70,
     "metadata": {},
     "output_type": "execute_result"
    }
   ],
   "source": [
    "df[\"temperature\"] = df[\"TG\"] / 10\n",
    "df"
   ]
  },
  {
   "cell_type": "code",
   "execution_count": 71,
   "metadata": {},
   "outputs": [
    {
     "data": {
      "text/plain": [
       "<matplotlib.axes._subplots.AxesSubplot at 0x7fbae9c3a390>"
      ]
     },
     "execution_count": 71,
     "metadata": {},
     "output_type": "execute_result"
    },
    {
     "data": {
      "image/png": "[encoded data removed]",
      "text/plain": [
       "<Figure size 1080x648 with 1 Axes>"
      ]
     },
     "metadata": {
      "needs_background": "light"
     },
     "output_type": "display_data"
    }
   ],
   "source": [
    "plt.figure(figsize=(15, 9))\n",
    "df[\"temperature\"].plot()"
   ]
  },
  {
   "cell_type": "markdown",
   "metadata": {},
   "source": [
    "## Step 4\n",
    "#### Converting the DATE column to a string and creating a new column in pandas timestamps format from that."
   ]
  },
  {
   "cell_type": "code",
   "execution_count": 72,
   "metadata": {},
   "outputs": [
    {
     "name": "stdout",
     "output_type": "stream",
     "text": [
      "<class 'pandas.core.frame.DataFrame'>\n",
      "RangeIndex: 22523 entries, 0 to 22522\n",
      "Data columns (total 5 columns):\n",
      "SOUID          22523 non-null int64\n",
      "DATE           22523 non-null object\n",
      "TG             22523 non-null int64\n",
      "Q_TG           22523 non-null int64\n",
      "temperature    22523 non-null float64\n",
      "dtypes: float64(1), int64(3), object(1)\n",
      "memory usage: 879.9+ KB\n"
     ]
    }
   ],
   "source": [
    "df = df.astype({'DATE':'str'})\n",
    "df.info()"
   ]
  },
  {
   "cell_type": "code",
   "execution_count": 73,
   "metadata": {},
   "outputs": [],
   "source": [
    "df['year'] = df[\"DATE\"].str[0:4]\n",
    "df['month'] = df[\"DATE\"].str[4:6]\n",
    "df['day'] = df[\"DATE\"].str[6:8]"
   ]
  },
  {
   "cell_type": "code",
   "execution_count": 74,
   "metadata": {},
   "outputs": [
    {
     "data": {
      "text/html": [
       "<div>\n",
       "<style scoped>\n",
       "    .dataframe tbody tr th:only-of-type {\n",
       "        vertical-align: middle;\n",
       "    }\n",
       "\n",
       "    .dataframe tbody tr th {\n",
       "        vertical-align: top;\n",
       "    }\n",
       "\n",
       "    .dataframe thead th {\n",
       "        text-align: right;\n",
       "    }\n",
       "</style>\n",
       "<table border=\"1\" class=\"dataframe\">\n",
       "  <thead>\n",
       "    <tr style=\"text-align: right;\">\n",
       "      <th></th>\n",
       "      <th>SOUID</th>\n",
       "      <th>DATE</th>\n",
       "      <th>TG</th>\n",
       "      <th>Q_TG</th>\n",
       "      <th>temperature</th>\n",
       "      <th>year</th>\n",
       "      <th>month</th>\n",
       "      <th>day</th>\n",
       "    </tr>\n",
       "  </thead>\n",
       "  <tbody>\n",
       "    <tr>\n",
       "      <td>0</td>\n",
       "      <td>127440</td>\n",
       "      <td>19610101</td>\n",
       "      <td>12</td>\n",
       "      <td>0</td>\n",
       "      <td>1.2</td>\n",
       "      <td>1961</td>\n",
       "      <td>01</td>\n",
       "      <td>01</td>\n",
       "    </tr>\n",
       "    <tr>\n",
       "      <td>1</td>\n",
       "      <td>127440</td>\n",
       "      <td>19610102</td>\n",
       "      <td>0</td>\n",
       "      <td>0</td>\n",
       "      <td>0.0</td>\n",
       "      <td>1961</td>\n",
       "      <td>01</td>\n",
       "      <td>02</td>\n",
       "    </tr>\n",
       "    <tr>\n",
       "      <td>2</td>\n",
       "      <td>127440</td>\n",
       "      <td>19610103</td>\n",
       "      <td>27</td>\n",
       "      <td>0</td>\n",
       "      <td>2.7</td>\n",
       "      <td>1961</td>\n",
       "      <td>01</td>\n",
       "      <td>03</td>\n",
       "    </tr>\n",
       "    <tr>\n",
       "      <td>3</td>\n",
       "      <td>127440</td>\n",
       "      <td>19610104</td>\n",
       "      <td>16</td>\n",
       "      <td>0</td>\n",
       "      <td>1.6</td>\n",
       "      <td>1961</td>\n",
       "      <td>01</td>\n",
       "      <td>04</td>\n",
       "    </tr>\n",
       "    <tr>\n",
       "      <td>4</td>\n",
       "      <td>127440</td>\n",
       "      <td>19610105</td>\n",
       "      <td>12</td>\n",
       "      <td>0</td>\n",
       "      <td>1.2</td>\n",
       "      <td>1961</td>\n",
       "      <td>01</td>\n",
       "      <td>05</td>\n",
       "    </tr>\n",
       "  </tbody>\n",
       "</table>\n",
       "</div>"
      ],
      "text/plain": [
       "    SOUID      DATE  TG  Q_TG  temperature  year month day\n",
       "0  127440  19610101  12     0          1.2  1961    01  01\n",
       "1  127440  19610102   0     0          0.0  1961    01  02\n",
       "2  127440  19610103  27     0          2.7  1961    01  03\n",
       "3  127440  19610104  16     0          1.6  1961    01  04\n",
       "4  127440  19610105  12     0          1.2  1961    01  05"
      ]
     },
     "execution_count": 74,
     "metadata": {},
     "output_type": "execute_result"
    }
   ],
   "source": [
    "df.head()"
   ]
  },
  {
   "cell_type": "code",
   "execution_count": 75,
   "metadata": {},
   "outputs": [],
   "source": [
    "df[\"Date\"] = df['year'] + '-' + df['month'] + '-' + df['day']"
   ]
  },
  {
   "cell_type": "code",
   "execution_count": 76,
   "metadata": {},
   "outputs": [
    {
     "data": {
      "text/html": [
       "<div>\n",
       "<style scoped>\n",
       "    .dataframe tbody tr th:only-of-type {\n",
       "        vertical-align: middle;\n",
       "    }\n",
       "\n",
       "    .dataframe tbody tr th {\n",
       "        vertical-align: top;\n",
       "    }\n",
       "\n",
       "    .dataframe thead th {\n",
       "        text-align: right;\n",
       "    }\n",
       "</style>\n",
       "<table border=\"1\" class=\"dataframe\">\n",
       "  <thead>\n",
       "    <tr style=\"text-align: right;\">\n",
       "      <th></th>\n",
       "      <th>SOUID</th>\n",
       "      <th>DATE</th>\n",
       "      <th>TG</th>\n",
       "      <th>Q_TG</th>\n",
       "      <th>temperature</th>\n",
       "      <th>year</th>\n",
       "      <th>month</th>\n",
       "      <th>day</th>\n",
       "      <th>Date</th>\n",
       "    </tr>\n",
       "  </thead>\n",
       "  <tbody>\n",
       "    <tr>\n",
       "      <td>0</td>\n",
       "      <td>127440</td>\n",
       "      <td>19610101</td>\n",
       "      <td>12</td>\n",
       "      <td>0</td>\n",
       "      <td>1.2</td>\n",
       "      <td>1961</td>\n",
       "      <td>01</td>\n",
       "      <td>01</td>\n",
       "      <td>1961-01-01</td>\n",
       "    </tr>\n",
       "    <tr>\n",
       "      <td>1</td>\n",
       "      <td>127440</td>\n",
       "      <td>19610102</td>\n",
       "      <td>0</td>\n",
       "      <td>0</td>\n",
       "      <td>0.0</td>\n",
       "      <td>1961</td>\n",
       "      <td>01</td>\n",
       "      <td>02</td>\n",
       "      <td>1961-01-02</td>\n",
       "    </tr>\n",
       "    <tr>\n",
       "      <td>2</td>\n",
       "      <td>127440</td>\n",
       "      <td>19610103</td>\n",
       "      <td>27</td>\n",
       "      <td>0</td>\n",
       "      <td>2.7</td>\n",
       "      <td>1961</td>\n",
       "      <td>01</td>\n",
       "      <td>03</td>\n",
       "      <td>1961-01-03</td>\n",
       "    </tr>\n",
       "    <tr>\n",
       "      <td>3</td>\n",
       "      <td>127440</td>\n",
       "      <td>19610104</td>\n",
       "      <td>16</td>\n",
       "      <td>0</td>\n",
       "      <td>1.6</td>\n",
       "      <td>1961</td>\n",
       "      <td>01</td>\n",
       "      <td>04</td>\n",
       "      <td>1961-01-04</td>\n",
       "    </tr>\n",
       "    <tr>\n",
       "      <td>4</td>\n",
       "      <td>127440</td>\n",
       "      <td>19610105</td>\n",
       "      <td>12</td>\n",
       "      <td>0</td>\n",
       "      <td>1.2</td>\n",
       "      <td>1961</td>\n",
       "      <td>01</td>\n",
       "      <td>05</td>\n",
       "      <td>1961-01-05</td>\n",
       "    </tr>\n",
       "  </tbody>\n",
       "</table>\n",
       "</div>"
      ],
      "text/plain": [
       "    SOUID      DATE  TG  Q_TG  temperature  year month day        Date\n",
       "0  127440  19610101  12     0          1.2  1961    01  01  1961-01-01\n",
       "1  127440  19610102   0     0          0.0  1961    01  02  1961-01-02\n",
       "2  127440  19610103  27     0          2.7  1961    01  03  1961-01-03\n",
       "3  127440  19610104  16     0          1.6  1961    01  04  1961-01-04\n",
       "4  127440  19610105  12     0          1.2  1961    01  05  1961-01-05"
      ]
     },
     "execution_count": 76,
     "metadata": {},
     "output_type": "execute_result"
    }
   ],
   "source": [
    "df.head()"
   ]
  },
  {
   "cell_type": "code",
   "execution_count": 77,
   "metadata": {},
   "outputs": [],
   "source": [
    "df[\"Date\"] = pd.to_datetime(df[\"Date\"])"
   ]
  },
  {
   "cell_type": "code",
   "execution_count": 78,
   "metadata": {},
   "outputs": [
    {
     "name": "stdout",
     "output_type": "stream",
     "text": [
      "<class 'pandas.core.frame.DataFrame'>\n",
      "RangeIndex: 22523 entries, 0 to 22522\n",
      "Data columns (total 9 columns):\n",
      "SOUID          22523 non-null int64\n",
      "DATE           22523 non-null object\n",
      "TG             22523 non-null int64\n",
      "Q_TG           22523 non-null int64\n",
      "temperature    22523 non-null float64\n",
      "year           22523 non-null object\n",
      "month          22523 non-null object\n",
      "day            22523 non-null object\n",
      "Date           22523 non-null datetime64[ns]\n",
      "dtypes: datetime64[ns](1), float64(1), int64(3), object(4)\n",
      "memory usage: 1.5+ MB\n"
     ]
    }
   ],
   "source": [
    "df.info()"
   ]
  },
  {
   "cell_type": "code",
   "execution_count": 79,
   "metadata": {},
   "outputs": [
    {
     "data": {
      "text/html": [
       "<div>\n",
       "<style scoped>\n",
       "    .dataframe tbody tr th:only-of-type {\n",
       "        vertical-align: middle;\n",
       "    }\n",
       "\n",
       "    .dataframe tbody tr th {\n",
       "        vertical-align: top;\n",
       "    }\n",
       "\n",
       "    .dataframe thead th {\n",
       "        text-align: right;\n",
       "    }\n",
       "</style>\n",
       "<table border=\"1\" class=\"dataframe\">\n",
       "  <thead>\n",
       "    <tr style=\"text-align: right;\">\n",
       "      <th></th>\n",
       "      <th>SOUID</th>\n",
       "      <th>DATE</th>\n",
       "      <th>TG</th>\n",
       "      <th>Q_TG</th>\n",
       "      <th>temperature</th>\n",
       "      <th>year</th>\n",
       "      <th>month</th>\n",
       "      <th>day</th>\n",
       "      <th>Date</th>\n",
       "    </tr>\n",
       "  </thead>\n",
       "  <tbody>\n",
       "    <tr>\n",
       "      <td>0</td>\n",
       "      <td>127440</td>\n",
       "      <td>19610101</td>\n",
       "      <td>12</td>\n",
       "      <td>0</td>\n",
       "      <td>1.2</td>\n",
       "      <td>1961</td>\n",
       "      <td>01</td>\n",
       "      <td>01</td>\n",
       "      <td>1961-01-01</td>\n",
       "    </tr>\n",
       "    <tr>\n",
       "      <td>1</td>\n",
       "      <td>127440</td>\n",
       "      <td>19610102</td>\n",
       "      <td>0</td>\n",
       "      <td>0</td>\n",
       "      <td>0.0</td>\n",
       "      <td>1961</td>\n",
       "      <td>01</td>\n",
       "      <td>02</td>\n",
       "      <td>1961-01-02</td>\n",
       "    </tr>\n",
       "    <tr>\n",
       "      <td>2</td>\n",
       "      <td>127440</td>\n",
       "      <td>19610103</td>\n",
       "      <td>27</td>\n",
       "      <td>0</td>\n",
       "      <td>2.7</td>\n",
       "      <td>1961</td>\n",
       "      <td>01</td>\n",
       "      <td>03</td>\n",
       "      <td>1961-01-03</td>\n",
       "    </tr>\n",
       "    <tr>\n",
       "      <td>3</td>\n",
       "      <td>127440</td>\n",
       "      <td>19610104</td>\n",
       "      <td>16</td>\n",
       "      <td>0</td>\n",
       "      <td>1.6</td>\n",
       "      <td>1961</td>\n",
       "      <td>01</td>\n",
       "      <td>04</td>\n",
       "      <td>1961-01-04</td>\n",
       "    </tr>\n",
       "    <tr>\n",
       "      <td>4</td>\n",
       "      <td>127440</td>\n",
       "      <td>19610105</td>\n",
       "      <td>12</td>\n",
       "      <td>0</td>\n",
       "      <td>1.2</td>\n",
       "      <td>1961</td>\n",
       "      <td>01</td>\n",
       "      <td>05</td>\n",
       "      <td>1961-01-05</td>\n",
       "    </tr>\n",
       "  </tbody>\n",
       "</table>\n",
       "</div>"
      ],
      "text/plain": [
       "    SOUID      DATE  TG  Q_TG  temperature  year month day       Date\n",
       "0  127440  19610101  12     0          1.2  1961    01  01 1961-01-01\n",
       "1  127440  19610102   0     0          0.0  1961    01  02 1961-01-02\n",
       "2  127440  19610103  27     0          2.7  1961    01  03 1961-01-03\n",
       "3  127440  19610104  16     0          1.6  1961    01  04 1961-01-04\n",
       "4  127440  19610105  12     0          1.2  1961    01  05 1961-01-05"
      ]
     },
     "execution_count": 79,
     "metadata": {},
     "output_type": "execute_result"
    }
   ],
   "source": [
    "df.head()"
   ]
  },
  {
   "cell_type": "code",
   "execution_count": 80,
   "metadata": {},
   "outputs": [],
   "source": [
    "df = df.set_index(df[\"Date\"])"
   ]
  },
  {
   "cell_type": "code",
   "execution_count": 81,
   "metadata": {},
   "outputs": [
    {
     "data": {
      "text/plain": [
       "<matplotlib.axes._subplots.AxesSubplot at 0x7fbac8075050>"
      ]
     },
     "execution_count": 81,
     "metadata": {},
     "output_type": "execute_result"
    },
    {
     "data": {
      "image/png": "[encoded data removed]",
      "text/plain": [
       "<Figure size 1080x648 with 1 Axes>"
      ]
     },
     "metadata": {
      "needs_background": "light"
     },
     "output_type": "display_data"
    }
   ],
   "source": [
    "plt.figure(figsize=(15, 9))\n",
    "df[\"temperature\"].plot()"
   ]
  },
  {
   "cell_type": "markdown",
   "metadata": {},
   "source": [
    "## Steps 5 and 6\n",
    "#### Replacing missing temperature values with the median temperature and cutting of the last year."
   ]
  },
  {
   "cell_type": "code",
   "execution_count": 82,
   "metadata": {},
   "outputs": [],
   "source": [
    "# Step 5 and 6\n",
    "df = df.loc[:'2021-12-31']\n",
    "df[\"temp\"] = df[\"temperature\"].replace(-999.9, df[\"temperature\"].median())"
   ]
  },
  {
   "cell_type": "code",
   "execution_count": 83,
   "metadata": {},
   "outputs": [
    {
     "data": {
      "text/html": [
       "<div>\n",
       "<style scoped>\n",
       "    .dataframe tbody tr th:only-of-type {\n",
       "        vertical-align: middle;\n",
       "    }\n",
       "\n",
       "    .dataframe tbody tr th {\n",
       "        vertical-align: top;\n",
       "    }\n",
       "\n",
       "    .dataframe thead th {\n",
       "        text-align: right;\n",
       "    }\n",
       "</style>\n",
       "<table border=\"1\" class=\"dataframe\">\n",
       "  <thead>\n",
       "    <tr style=\"text-align: right;\">\n",
       "      <th></th>\n",
       "      <th>SOUID</th>\n",
       "      <th>DATE</th>\n",
       "      <th>TG</th>\n",
       "      <th>Q_TG</th>\n",
       "      <th>temperature</th>\n",
       "      <th>year</th>\n",
       "      <th>month</th>\n",
       "      <th>day</th>\n",
       "      <th>Date</th>\n",
       "      <th>temp</th>\n",
       "    </tr>\n",
       "    <tr>\n",
       "      <th>Date</th>\n",
       "      <th></th>\n",
       "      <th></th>\n",
       "      <th></th>\n",
       "      <th></th>\n",
       "      <th></th>\n",
       "      <th></th>\n",
       "      <th></th>\n",
       "      <th></th>\n",
       "      <th></th>\n",
       "      <th></th>\n",
       "    </tr>\n",
       "  </thead>\n",
       "  <tbody>\n",
       "    <tr>\n",
       "      <td>1961-01-01</td>\n",
       "      <td>127440</td>\n",
       "      <td>19610101</td>\n",
       "      <td>12</td>\n",
       "      <td>0</td>\n",
       "      <td>1.2</td>\n",
       "      <td>1961</td>\n",
       "      <td>01</td>\n",
       "      <td>01</td>\n",
       "      <td>1961-01-01</td>\n",
       "      <td>1.2</td>\n",
       "    </tr>\n",
       "    <tr>\n",
       "      <td>1961-01-02</td>\n",
       "      <td>127440</td>\n",
       "      <td>19610102</td>\n",
       "      <td>0</td>\n",
       "      <td>0</td>\n",
       "      <td>0.0</td>\n",
       "      <td>1961</td>\n",
       "      <td>01</td>\n",
       "      <td>02</td>\n",
       "      <td>1961-01-02</td>\n",
       "      <td>0.0</td>\n",
       "    </tr>\n",
       "    <tr>\n",
       "      <td>1961-01-03</td>\n",
       "      <td>127440</td>\n",
       "      <td>19610103</td>\n",
       "      <td>27</td>\n",
       "      <td>0</td>\n",
       "      <td>2.7</td>\n",
       "      <td>1961</td>\n",
       "      <td>01</td>\n",
       "      <td>03</td>\n",
       "      <td>1961-01-03</td>\n",
       "      <td>2.7</td>\n",
       "    </tr>\n",
       "    <tr>\n",
       "      <td>1961-01-04</td>\n",
       "      <td>127440</td>\n",
       "      <td>19610104</td>\n",
       "      <td>16</td>\n",
       "      <td>0</td>\n",
       "      <td>1.6</td>\n",
       "      <td>1961</td>\n",
       "      <td>01</td>\n",
       "      <td>04</td>\n",
       "      <td>1961-01-04</td>\n",
       "      <td>1.6</td>\n",
       "    </tr>\n",
       "    <tr>\n",
       "      <td>1961-01-05</td>\n",
       "      <td>127440</td>\n",
       "      <td>19610105</td>\n",
       "      <td>12</td>\n",
       "      <td>0</td>\n",
       "      <td>1.2</td>\n",
       "      <td>1961</td>\n",
       "      <td>01</td>\n",
       "      <td>05</td>\n",
       "      <td>1961-01-05</td>\n",
       "      <td>1.2</td>\n",
       "    </tr>\n",
       "    <tr>\n",
       "      <td>...</td>\n",
       "      <td>...</td>\n",
       "      <td>...</td>\n",
       "      <td>...</td>\n",
       "      <td>...</td>\n",
       "      <td>...</td>\n",
       "      <td>...</td>\n",
       "      <td>...</td>\n",
       "      <td>...</td>\n",
       "      <td>...</td>\n",
       "      <td>...</td>\n",
       "    </tr>\n",
       "    <tr>\n",
       "      <td>2021-12-27</td>\n",
       "      <td>127440</td>\n",
       "      <td>20211227</td>\n",
       "      <td>-42</td>\n",
       "      <td>0</td>\n",
       "      <td>-4.2</td>\n",
       "      <td>2021</td>\n",
       "      <td>12</td>\n",
       "      <td>27</td>\n",
       "      <td>2021-12-27</td>\n",
       "      <td>-4.2</td>\n",
       "    </tr>\n",
       "    <tr>\n",
       "      <td>2021-12-28</td>\n",
       "      <td>127440</td>\n",
       "      <td>20211228</td>\n",
       "      <td>-15</td>\n",
       "      <td>0</td>\n",
       "      <td>-1.5</td>\n",
       "      <td>2021</td>\n",
       "      <td>12</td>\n",
       "      <td>28</td>\n",
       "      <td>2021-12-28</td>\n",
       "      <td>-1.5</td>\n",
       "    </tr>\n",
       "    <tr>\n",
       "      <td>2021-12-29</td>\n",
       "      <td>127440</td>\n",
       "      <td>20211229</td>\n",
       "      <td>37</td>\n",
       "      <td>0</td>\n",
       "      <td>3.7</td>\n",
       "      <td>2021</td>\n",
       "      <td>12</td>\n",
       "      <td>29</td>\n",
       "      <td>2021-12-29</td>\n",
       "      <td>3.7</td>\n",
       "    </tr>\n",
       "    <tr>\n",
       "      <td>2021-12-30</td>\n",
       "      <td>127440</td>\n",
       "      <td>20211230</td>\n",
       "      <td>88</td>\n",
       "      <td>0</td>\n",
       "      <td>8.8</td>\n",
       "      <td>2021</td>\n",
       "      <td>12</td>\n",
       "      <td>30</td>\n",
       "      <td>2021-12-30</td>\n",
       "      <td>8.8</td>\n",
       "    </tr>\n",
       "    <tr>\n",
       "      <td>2021-12-31</td>\n",
       "      <td>127440</td>\n",
       "      <td>20211231</td>\n",
       "      <td>126</td>\n",
       "      <td>0</td>\n",
       "      <td>12.6</td>\n",
       "      <td>2021</td>\n",
       "      <td>12</td>\n",
       "      <td>31</td>\n",
       "      <td>2021-12-31</td>\n",
       "      <td>12.6</td>\n",
       "    </tr>\n",
       "  </tbody>\n",
       "</table>\n",
       "<p>22280 rows × 10 columns</p>\n",
       "</div>"
      ],
      "text/plain": [
       "             SOUID      DATE   TG  Q_TG  temperature  year month day  \\\n",
       "Date                                                                   \n",
       "1961-01-01  127440  19610101   12     0          1.2  1961    01  01   \n",
       "1961-01-02  127440  19610102    0     0          0.0  1961    01  02   \n",
       "1961-01-03  127440  19610103   27     0          2.7  1961    01  03   \n",
       "1961-01-04  127440  19610104   16     0          1.6  1961    01  04   \n",
       "1961-01-05  127440  19610105   12     0          1.2  1961    01  05   \n",
       "...            ...       ...  ...   ...          ...   ...   ...  ..   \n",
       "2021-12-27  127440  20211227  -42     0         -4.2  2021    12  27   \n",
       "2021-12-28  127440  20211228  -15     0         -1.5  2021    12  28   \n",
       "2021-12-29  127440  20211229   37     0          3.7  2021    12  29   \n",
       "2021-12-30  127440  20211230   88     0          8.8  2021    12  30   \n",
       "2021-12-31  127440  20211231  126     0         12.6  2021    12  31   \n",
       "\n",
       "                 Date  temp  \n",
       "Date                         \n",
       "1961-01-01 1961-01-01   1.2  \n",
       "1961-01-02 1961-01-02   0.0  \n",
       "1961-01-03 1961-01-03   2.7  \n",
       "1961-01-04 1961-01-04   1.6  \n",
       "1961-01-05 1961-01-05   1.2  \n",
       "...               ...   ...  \n",
       "2021-12-27 2021-12-27  -4.2  \n",
       "2021-12-28 2021-12-28  -1.5  \n",
       "2021-12-29 2021-12-29   3.7  \n",
       "2021-12-30 2021-12-30   8.8  \n",
       "2021-12-31 2021-12-31  12.6  \n",
       "\n",
       "[22280 rows x 10 columns]"
      ]
     },
     "execution_count": 83,
     "metadata": {},
     "output_type": "execute_result"
    }
   ],
   "source": [
    "df"
   ]
  },
  {
   "cell_type": "markdown",
   "metadata": {},
   "source": [
    "## Step 7\n",
    "#### Plotting the yearly median temperature in Berlin-Buch"
   ]
  },
  {
   "cell_type": "code",
   "execution_count": 84,
   "metadata": {},
   "outputs": [
    {
     "data": {
      "text/plain": [
       "Text(0, 0.5, 'Median Temperature')"
      ]
     },
     "execution_count": 84,
     "metadata": {},
     "output_type": "execute_result"
    },
    {
     "data": {
      "image/png": "[encoded data removed]",
      "text/plain": [
       "<Figure size 720x360 with 1 Axes>"
      ]
     },
     "metadata": {
      "needs_background": "light"
     },
     "output_type": "display_data"
    }
   ],
   "source": [
    "plt.figure(figsize=(10, 5))\n",
    "yearly_median = df.groupby(\"year\")[\"temp\"].median()\n",
    "yearly_median.plot()\n",
    "plt.title('Yearly median temperature in Berlin-Buch')\n",
    "plt.xlabel(\"Year\")\n",
    "plt.ylabel(\"Median Temperature\")"
   ]
  },
  {
   "cell_type": "markdown",
   "metadata": {},
   "source": [
    "## Task 7.1\n",
    "#### Plotting a heatmap and saving it to PNG."
   ]
  },
  {
   "cell_type": "code",
   "execution_count": 106,
   "metadata": {},
   "outputs": [],
   "source": [
    "df_yearly = pd.DataFrame(yearly_median)\n",
    "df_yearly = df_yearly.transpose()"
   ]
  },
  {
   "cell_type": "code",
   "execution_count": 107,
   "metadata": {},
   "outputs": [
    {
     "data": {
      "image/png": "[encoded data removed]",
      "text/plain": [
       "<Figure size 1080x360 with 2 Axes>"
      ]
     },
     "metadata": {
      "needs_background": "light"
     },
     "output_type": "display_data"
    }
   ],
   "source": [
    "cmap = plt.get_cmap('coolwarm')\n",
    "\n",
    "plt.figure(figsize=(15, 5))\n",
    "plt.title('Yearly median temperature in Berlin-Buch from 1961 to 2021')\n",
    "sns.heatmap(df_yearly, cmap=cmap, yticklabels=[\"Temperature\"])\n",
    "plt.savefig(\"Berlin-Buch-heatmap.png\", dpi=150)"
   ]
  }
 ],
 "metadata": {
  "kernelspec": {
   "display_name": "Python 3",
   "language": "python",
   "name": "python3"
  },
  "language_info": {
   "codemirror_mode": {
    "name": "ipython",
    "version": 3
   },
   "file_extension": ".py",
   "mimetype": "text/x-python",
   "name": "python",
   "nbconvert_exporter": "python",
   "pygments_lexer": "ipython3",
   "version": "3.7.4"
  }
 },
 "nbformat": 4,
 "nbformat_minor": 5
}
